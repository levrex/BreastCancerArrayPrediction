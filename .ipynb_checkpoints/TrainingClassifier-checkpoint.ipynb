{
 "cells": [
  {
   "cell_type": "markdown",
   "metadata": {},
   "source": [
    "# Datamining"
   ]
  },
  {
   "cell_type": "code",
   "execution_count": 1,
   "metadata": {},
   "outputs": [
    {
     "name": "stdout",
     "output_type": "stream",
     "text": [
      "Current versions Modules:\n",
      "\n",
      "Pandas version:\t\t0.24.2\n",
      "Matplotlib version:\t3.1.0\n",
      "numpy version:\t\t1.15.4\n",
      "sklearn version:\t0.21.2\n"
     ]
    }
   ],
   "source": [
    "SEED = 26062019\n",
    "\n",
    "test_size = 0.5 \n",
    "\n",
    "import sys\n",
    "import numpy as np\n",
    "import pandas as pd\n",
    "from sklearn import __version__ as sk_vers\n",
    "import matplotlib.pyplot as plt\n",
    "from matplotlib import __version__ as m_vers\n",
    "\n",
    "print('Current versions Modules:\\n')\n",
    "print('Pandas version:\\t\\t' + pd.__version__)\n",
    "print('Matplotlib version:\\t' + m_vers)\n",
    "print('numpy version:\\t\\t' + np.__version__)\n",
    "print('sklearn version:\\t' + sk_vers)"
   ]
  },
  {
   "cell_type": "markdown",
   "metadata": {},
   "source": [
    "## Load data"
   ]
  },
  {
   "cell_type": "code",
   "execution_count": 10,
   "metadata": {},
   "outputs": [
    {
     "name": "stdout",
     "output_type": "stream",
     "text": [
      "nr of entries:  100\n"
     ]
    },
    {
     "data": {
      "text/html": [
       "<div>\n",
       "<style scoped>\n",
       "    .dataframe tbody tr th:only-of-type {\n",
       "        vertical-align: middle;\n",
       "    }\n",
       "\n",
       "    .dataframe tbody tr th {\n",
       "        vertical-align: top;\n",
       "    }\n",
       "\n",
       "    .dataframe thead th {\n",
       "        text-align: right;\n",
       "    }\n",
       "</style>\n",
       "<table border=\"1\" class=\"dataframe\">\n",
       "  <thead>\n",
       "    <tr style=\"text-align: right;\">\n",
       "      <th></th>\n",
       "      <th>0</th>\n",
       "      <th>1</th>\n",
       "      <th>2</th>\n",
       "      <th>3</th>\n",
       "      <th>4</th>\n",
       "      <th>5</th>\n",
       "      <th>6</th>\n",
       "      <th>7</th>\n",
       "      <th>8</th>\n",
       "      <th>9</th>\n",
       "      <th>...</th>\n",
       "      <th>2826</th>\n",
       "      <th>2827</th>\n",
       "      <th>2828</th>\n",
       "      <th>2829</th>\n",
       "      <th>2830</th>\n",
       "      <th>2831</th>\n",
       "      <th>2832</th>\n",
       "      <th>2833</th>\n",
       "      <th>2834</th>\n",
       "      <th>2835</th>\n",
       "    </tr>\n",
       "  </thead>\n",
       "  <tbody>\n",
       "    <tr>\n",
       "      <th>0</th>\n",
       "      <td>Array.129</td>\n",
       "      <td>HER2+</td>\n",
       "      <td>0</td>\n",
       "      <td>0</td>\n",
       "      <td>0</td>\n",
       "      <td>0</td>\n",
       "      <td>0</td>\n",
       "      <td>0</td>\n",
       "      <td>0</td>\n",
       "      <td>0</td>\n",
       "      <td>...</td>\n",
       "      <td>2</td>\n",
       "      <td>2</td>\n",
       "      <td>2</td>\n",
       "      <td>2</td>\n",
       "      <td>0</td>\n",
       "      <td>1</td>\n",
       "      <td>1</td>\n",
       "      <td>1</td>\n",
       "      <td>1</td>\n",
       "      <td>1</td>\n",
       "    </tr>\n",
       "    <tr>\n",
       "      <th>1</th>\n",
       "      <td>Array.34</td>\n",
       "      <td>HR+</td>\n",
       "      <td>0</td>\n",
       "      <td>0</td>\n",
       "      <td>0</td>\n",
       "      <td>0</td>\n",
       "      <td>0</td>\n",
       "      <td>0</td>\n",
       "      <td>0</td>\n",
       "      <td>0</td>\n",
       "      <td>...</td>\n",
       "      <td>1</td>\n",
       "      <td>1</td>\n",
       "      <td>1</td>\n",
       "      <td>1</td>\n",
       "      <td>1</td>\n",
       "      <td>1</td>\n",
       "      <td>1</td>\n",
       "      <td>1</td>\n",
       "      <td>1</td>\n",
       "      <td>1</td>\n",
       "    </tr>\n",
       "    <tr>\n",
       "      <th>2</th>\n",
       "      <td>Array.67</td>\n",
       "      <td>HR+</td>\n",
       "      <td>0</td>\n",
       "      <td>0</td>\n",
       "      <td>0</td>\n",
       "      <td>0</td>\n",
       "      <td>0</td>\n",
       "      <td>0</td>\n",
       "      <td>0</td>\n",
       "      <td>0</td>\n",
       "      <td>...</td>\n",
       "      <td>1</td>\n",
       "      <td>1</td>\n",
       "      <td>1</td>\n",
       "      <td>1</td>\n",
       "      <td>1</td>\n",
       "      <td>1</td>\n",
       "      <td>1</td>\n",
       "      <td>1</td>\n",
       "      <td>1</td>\n",
       "      <td>1</td>\n",
       "    </tr>\n",
       "    <tr>\n",
       "      <th>3</th>\n",
       "      <td>Array.24</td>\n",
       "      <td>Triple Neg</td>\n",
       "      <td>0</td>\n",
       "      <td>0</td>\n",
       "      <td>0</td>\n",
       "      <td>0</td>\n",
       "      <td>0</td>\n",
       "      <td>0</td>\n",
       "      <td>0</td>\n",
       "      <td>-1</td>\n",
       "      <td>...</td>\n",
       "      <td>0</td>\n",
       "      <td>0</td>\n",
       "      <td>0</td>\n",
       "      <td>0</td>\n",
       "      <td>0</td>\n",
       "      <td>0</td>\n",
       "      <td>0</td>\n",
       "      <td>0</td>\n",
       "      <td>0</td>\n",
       "      <td>0</td>\n",
       "    </tr>\n",
       "    <tr>\n",
       "      <th>4</th>\n",
       "      <td>Array.22</td>\n",
       "      <td>Triple Neg</td>\n",
       "      <td>0</td>\n",
       "      <td>0</td>\n",
       "      <td>0</td>\n",
       "      <td>0</td>\n",
       "      <td>0</td>\n",
       "      <td>0</td>\n",
       "      <td>0</td>\n",
       "      <td>0</td>\n",
       "      <td>...</td>\n",
       "      <td>1</td>\n",
       "      <td>1</td>\n",
       "      <td>1</td>\n",
       "      <td>1</td>\n",
       "      <td>1</td>\n",
       "      <td>1</td>\n",
       "      <td>1</td>\n",
       "      <td>1</td>\n",
       "      <td>1</td>\n",
       "      <td>1</td>\n",
       "    </tr>\n",
       "  </tbody>\n",
       "</table>\n",
       "<p>5 rows × 2836 columns</p>\n",
       "</div>"
      ],
      "text/plain": [
       "        0           1     2     3     4     5     6     7     8     9     ...  \\\n",
       "0  Array.129       HER2+     0     0     0     0     0     0     0     0  ...   \n",
       "1   Array.34         HR+     0     0     0     0     0     0     0     0  ...   \n",
       "2   Array.67         HR+     0     0     0     0     0     0     0     0  ...   \n",
       "3   Array.24  Triple Neg     0     0     0     0     0     0     0    -1  ...   \n",
       "4   Array.22  Triple Neg     0     0     0     0     0     0     0     0  ...   \n",
       "\n",
       "   2826  2827  2828  2829  2830  2831  2832  2833  2834  2835  \n",
       "0     2     2     2     2     0     1     1     1     1     1  \n",
       "1     1     1     1     1     1     1     1     1     1     1  \n",
       "2     1     1     1     1     1     1     1     1     1     1  \n",
       "3     0     0     0     0     0     0     0     0     0     0  \n",
       "4     1     1     1     1     1     1     1     1     1     1  \n",
       "\n",
       "[5 rows x 2836 columns]"
      ]
     },
     "execution_count": 10,
     "metadata": {},
     "output_type": "execute_result"
    }
   ],
   "source": [
    "df_bitm = pd.read_csv(r'data/BITM_Cancer_dataset.csv', sep='\\t', header=None)\n",
    "df_chromPos = pd.read_csv(r'data/Train_call.txt', sep='\\t', header=0)\n",
    "print('nr of entries: ', len(df_bitm))\n",
    "\n",
    "df_bitm.head()"
   ]
  },
  {
   "cell_type": "code",
   "execution_count": 11,
   "metadata": {},
   "outputs": [
    {
     "name": "stdout",
     "output_type": "stream",
     "text": [
      "Test clinical retrieval:\n",
      "\n",
      "Chromosome          1\n",
      "Start         1676445\n",
      "End           1703748\n",
      "Name: 7, dtype: int64\n"
     ]
    }
   ],
   "source": [
    "class ClinicalInformationRetrieval():\n",
    "    def __init__(self, df_clinic):\n",
    "        self.df = df_clinic\n",
    "        \n",
    "    def getChrPosition(self, i, offset=-2):\n",
    "        \"\"\"\n",
    "        Specify feature and get corresponding region on chromosome\n",
    "        Input: \n",
    "            i = feature index\n",
    "        \"\"\"\n",
    "        return self.df[['Chromosome', 'Start', 'End']].iloc[i+offset]\n",
    "    \n",
    "ch = ClinicalInformationRetrieval(df_chromPos)\n",
    "print('Test clinical retrieval:\\n\\n' + str(ch.getChrPosition(9)))\n"
   ]
  },
  {
   "cell_type": "code",
   "execution_count": 22,
   "metadata": {},
   "outputs": [
    {
     "name": "stdout",
     "output_type": "stream",
     "text": [
      "(32, 36, 32)\n"
     ]
    },
    {
     "data": {
      "image/png": "[encoded data removed]",
      "text/plain": [
       "<Figure size 360x360 with 1 Axes>"
      ]
     },
     "metadata": {},
     "output_type": "display_data"
    }
   ],
   "source": [
    "from collections import Counter\n",
    "\n",
    "labels, values = zip(*Counter(df_bitm[1]).items())\n",
    "print(values)\n",
    "df = pd.DataFrame({'section':labels, 'frequency':values})\n",
    "ax = df.plot(kind='bar',  title =\"Categories Variable\", figsize=(5, 5), x='section', legend=True, fontsize=12, rot=90)"
   ]
  },
  {
   "cell_type": "markdown",
   "metadata": {},
   "source": [
    "### Import important modules"
   ]
  },
  {
   "cell_type": "code",
   "execution_count": 12,
   "metadata": {},
   "outputs": [],
   "source": [
    "from sklearn.datasets import load_iris\n",
    "from matplotlib import pyplot as plt\n",
    "from sklearn.svm import SVC\n",
    "from sklearn.model_selection import GridSearchCV, cross_val_score, KFold, StratifiedKFold\n",
    "import numpy as np"
   ]
  },
  {
   "cell_type": "markdown",
   "metadata": {},
   "source": [
    "## Feature Reduction"
   ]
  },
  {
   "cell_type": "code",
   "execution_count": 13,
   "metadata": {},
   "outputs": [],
   "source": [
    "X = df_bitm[df_bitm.columns[2:]]\n",
    "y = df_bitm[df_bitm.columns[1]]\n"
   ]
  },
  {
   "cell_type": "markdown",
   "metadata": {},
   "source": [
    "## Double Cross Validation\n",
    "\n",
    "Consists of the following steps:\n",
    "- hyperparameter tuning\n",
    "- model selection"
   ]
  },
  {
   "cell_type": "code",
   "execution_count": 8,
   "metadata": {},
   "outputs": [],
   "source": [
    "from sklearn.neighbors import KNeighborsClassifier\n",
    "from sklearn.feature_selection import RFECV\n",
    "#from yellowbrick.model_selection import rfecv\n",
    "from sklearn.naive_bayes import MultinomialNB\n",
    "from sklearn.pipeline import Pipeline\n",
    "from sklearn.linear_model import Lasso\n",
    "from sklearn.feature_selection import SelectFromModel\n",
    "from sklearn.ensemble import RandomForestClassifier\n",
    "\n",
    "models = [\n",
    "    # Support Vector Machine - 1\n",
    "    Pipeline([\n",
    "                ('clf', SVC(gamma='auto', random_state=SEED))\n",
    "            ]),\n",
    "    # Naive Bayes - 2\n",
    "    Pipeline([\n",
    "                ('clf', MultinomialNB()),\n",
    "            ]),\n",
    "    # K Nearest Neighbours - 3\n",
    "    Pipeline([\n",
    "                ('clf', KNeighborsClassifier()), # hidden_layer_sizes=(5, 2), , \n",
    "            ]),\n",
    "    # Random Forest - 4\n",
    "    Pipeline([\n",
    "                ('clf', RandomForestClassifier(random_state=SEED)), # n_estimators=100, max_depth=2,\n",
    "            ]),\n",
    "    ]\n",
    "\n",
    "names = ['SVM', 'Naive Bayes', 'KNN', 'Random Forest']\n",
    "pal = ['r', 'c', 'b', 'y', 'magenta', 'darkgreen', 'indigo', 'black', 'orange'] "
   ]
  },
  {
   "cell_type": "code",
   "execution_count": 32,
   "metadata": {},
   "outputs": [],
   "source": [
    "from sklearn import preprocessing\n",
    "from sklearn.model_selection import train_test_split\n",
    "\n",
    "SEED = 26062019\n",
    "\n",
    "X = df_bitm[df_bitm.columns[2:]]\n",
    "\n",
    "# remove negative values\n",
    "X = X.replace(2, 3)\n",
    "X = X.replace(1, 2)\n",
    "X = X.replace(0, 1)\n",
    "X = X.replace(-1, 0)\n",
    "\n",
    "y = df_bitm[df_bitm.columns[1]]\n",
    "\n",
    "enc = preprocessing.LabelEncoder()\n",
    "y = enc.fit_transform(y)  #['HER2+', 'HR+', 'Triple Neg']\n",
    "\n",
    "X_train, X_test, y_train, y_test = train_test_split(X, y, test_size=0.10, random_state=SEED)"
   ]
  },
  {
   "cell_type": "code",
   "execution_count": 28,
   "metadata": {},
   "outputs": [
    {
     "name": "stdout",
     "output_type": "stream",
     "text": [
      "Before Feature Selection:  2834\n",
      "After Feature Selection:  40\n"
     ]
    },
    {
     "name": "stderr",
     "output_type": "stream",
     "text": [
      "C:\\Users\\levrex\\Anaconda3\\lib\\site-packages\\sklearn\\model_selection\\_search.py:813: DeprecationWarning: The default of the `iid` parameter will change from True to False in version 0.22 and will be removed in 0.24. This will change numeric results when test-set sizes are unequal.\n",
      "  DeprecationWarning)\n"
     ]
    },
    {
     "name": "stdout",
     "output_type": "stream",
     "text": [
      "F1: 0.8947368421052632 Best params: {'clf__C': 0.1, 'clf__kernel': 'linear'}\n"
     ]
    },
    {
     "name": "stderr",
     "output_type": "stream",
     "text": [
      "C:\\Users\\levrex\\Anaconda3\\lib\\site-packages\\sklearn\\model_selection\\_search.py:813: DeprecationWarning: The default of the `iid` parameter will change from True to False in version 0.22 and will be removed in 0.24. This will change numeric results when test-set sizes are unequal.\n",
      "  DeprecationWarning)\n"
     ]
    },
    {
     "name": "stdout",
     "output_type": "stream",
     "text": [
      "F1: 1.0 Best params: {'clf__C': 0.1, 'clf__kernel': 'linear'}\n"
     ]
    },
    {
     "name": "stderr",
     "output_type": "stream",
     "text": [
      "C:\\Users\\levrex\\Anaconda3\\lib\\site-packages\\sklearn\\model_selection\\_search.py:813: DeprecationWarning: The default of the `iid` parameter will change from True to False in version 0.22 and will be removed in 0.24. This will change numeric results when test-set sizes are unequal.\n",
      "  DeprecationWarning)\n"
     ]
    },
    {
     "name": "stdout",
     "output_type": "stream",
     "text": [
      "F1: 0.8888888888888888 Best params: {'clf__C': 0.1, 'clf__kernel': 'linear'}\n"
     ]
    },
    {
     "name": "stderr",
     "output_type": "stream",
     "text": [
      "C:\\Users\\levrex\\Anaconda3\\lib\\site-packages\\sklearn\\model_selection\\_search.py:813: DeprecationWarning: The default of the `iid` parameter will change from True to False in version 0.22 and will be removed in 0.24. This will change numeric results when test-set sizes are unequal.\n",
      "  DeprecationWarning)\n"
     ]
    },
    {
     "name": "stdout",
     "output_type": "stream",
     "text": [
      "F1: 0.8888888888888888 Best params: {'clf__C': 0.1, 'clf__kernel': 'linear'}\n"
     ]
    },
    {
     "name": "stderr",
     "output_type": "stream",
     "text": [
      "C:\\Users\\levrex\\Anaconda3\\lib\\site-packages\\sklearn\\model_selection\\_search.py:813: DeprecationWarning: The default of the `iid` parameter will change from True to False in version 0.22 and will be removed in 0.24. This will change numeric results when test-set sizes are unequal.\n",
      "  DeprecationWarning)\n",
      "C:\\Users\\levrex\\Anaconda3\\lib\\site-packages\\sklearn\\model_selection\\_search.py:813: DeprecationWarning: The default of the `iid` parameter will change from True to False in version 0.22 and will be removed in 0.24. This will change numeric results when test-set sizes are unequal.\n",
      "  DeprecationWarning)\n",
      "C:\\Users\\levrex\\Anaconda3\\lib\\site-packages\\sklearn\\model_selection\\_search.py:813: DeprecationWarning: The default of the `iid` parameter will change from True to False in version 0.22 and will be removed in 0.24. This will change numeric results when test-set sizes are unequal.\n",
      "  DeprecationWarning)\n"
     ]
    },
    {
     "name": "stdout",
     "output_type": "stream",
     "text": [
      "F1: 1.0 Best params: {'clf__C': 0.1, 'clf__kernel': 'linear'}\n",
      "New Best\n",
      "Final F1: 1.0 Best params: {'clf__C': 0.1, 'clf__kernel': 'linear'}\n",
      "F1: 0.7894736842105263 Best params: {'clf__alpha': 1}\n",
      "F1: 0.8421052631578947 Best params: {'clf__alpha': 1}\n"
     ]
    },
    {
     "name": "stderr",
     "output_type": "stream",
     "text": [
      "C:\\Users\\levrex\\Anaconda3\\lib\\site-packages\\sklearn\\model_selection\\_search.py:813: DeprecationWarning: The default of the `iid` parameter will change from True to False in version 0.22 and will be removed in 0.24. This will change numeric results when test-set sizes are unequal.\n",
      "  DeprecationWarning)\n",
      "C:\\Users\\levrex\\Anaconda3\\lib\\site-packages\\sklearn\\model_selection\\_search.py:813: DeprecationWarning: The default of the `iid` parameter will change from True to False in version 0.22 and will be removed in 0.24. This will change numeric results when test-set sizes are unequal.\n",
      "  DeprecationWarning)\n",
      "C:\\Users\\levrex\\Anaconda3\\lib\\site-packages\\sklearn\\model_selection\\_search.py:813: DeprecationWarning: The default of the `iid` parameter will change from True to False in version 0.22 and will be removed in 0.24. This will change numeric results when test-set sizes are unequal.\n",
      "  DeprecationWarning)\n"
     ]
    },
    {
     "name": "stdout",
     "output_type": "stream",
     "text": [
      "F1: 0.7222222222222222 Best params: {'clf__alpha': 0.1}\n",
      "F1: 0.8888888888888888 Best params: {'clf__alpha': 1}\n",
      "F1: 1.0 Best params: {'clf__alpha': 1}\n"
     ]
    },
    {
     "name": "stderr",
     "output_type": "stream",
     "text": [
      "C:\\Users\\levrex\\Anaconda3\\lib\\site-packages\\sklearn\\model_selection\\_search.py:813: DeprecationWarning: The default of the `iid` parameter will change from True to False in version 0.22 and will be removed in 0.24. This will change numeric results when test-set sizes are unequal.\n",
      "  DeprecationWarning)\n"
     ]
    },
    {
     "name": "stdout",
     "output_type": "stream",
     "text": [
      "F1: 0.8947368421052632 Best params: {'clf__leaf_size': 20, 'clf__n_neighbors': 9}\n"
     ]
    },
    {
     "name": "stderr",
     "output_type": "stream",
     "text": [
      "C:\\Users\\levrex\\Anaconda3\\lib\\site-packages\\sklearn\\model_selection\\_search.py:813: DeprecationWarning: The default of the `iid` parameter will change from True to False in version 0.22 and will be removed in 0.24. This will change numeric results when test-set sizes are unequal.\n",
      "  DeprecationWarning)\n"
     ]
    },
    {
     "name": "stdout",
     "output_type": "stream",
     "text": [
      "F1: 0.6842105263157895 Best params: {'clf__leaf_size': 20, 'clf__n_neighbors': 7}\n"
     ]
    },
    {
     "name": "stderr",
     "output_type": "stream",
     "text": [
      "C:\\Users\\levrex\\Anaconda3\\lib\\site-packages\\sklearn\\model_selection\\_search.py:813: DeprecationWarning: The default of the `iid` parameter will change from True to False in version 0.22 and will be removed in 0.24. This will change numeric results when test-set sizes are unequal.\n",
      "  DeprecationWarning)\n"
     ]
    },
    {
     "name": "stdout",
     "output_type": "stream",
     "text": [
      "F1: 0.7777777777777778 Best params: {'clf__leaf_size': 5, 'clf__n_neighbors': 9}\n"
     ]
    },
    {
     "name": "stderr",
     "output_type": "stream",
     "text": [
      "C:\\Users\\levrex\\Anaconda3\\lib\\site-packages\\sklearn\\model_selection\\_search.py:813: DeprecationWarning: The default of the `iid` parameter will change from True to False in version 0.22 and will be removed in 0.24. This will change numeric results when test-set sizes are unequal.\n",
      "  DeprecationWarning)\n"
     ]
    },
    {
     "name": "stdout",
     "output_type": "stream",
     "text": [
      "F1: 0.6666666666666666 Best params: {'clf__leaf_size': 5, 'clf__n_neighbors': 3}\n"
     ]
    },
    {
     "name": "stderr",
     "output_type": "stream",
     "text": [
      "C:\\Users\\levrex\\Anaconda3\\lib\\site-packages\\sklearn\\model_selection\\_search.py:813: DeprecationWarning: The default of the `iid` parameter will change from True to False in version 0.22 and will be removed in 0.24. This will change numeric results when test-set sizes are unequal.\n",
      "  DeprecationWarning)\n"
     ]
    },
    {
     "name": "stdout",
     "output_type": "stream",
     "text": [
      "F1: 0.875 Best params: {'clf__leaf_size': 5, 'clf__n_neighbors': 9}\n"
     ]
    },
    {
     "name": "stderr",
     "output_type": "stream",
     "text": [
      "C:\\Users\\levrex\\Anaconda3\\lib\\site-packages\\sklearn\\model_selection\\_search.py:813: DeprecationWarning: The default of the `iid` parameter will change from True to False in version 0.22 and will be removed in 0.24. This will change numeric results when test-set sizes are unequal.\n",
      "  DeprecationWarning)\n"
     ]
    },
    {
     "name": "stdout",
     "output_type": "stream",
     "text": [
      "F1: 0.8947368421052632 Best params: {'clf__max_depth': 10, 'clf__n_estimators': 100}\n"
     ]
    },
    {
     "name": "stderr",
     "output_type": "stream",
     "text": [
      "C:\\Users\\levrex\\Anaconda3\\lib\\site-packages\\sklearn\\model_selection\\_search.py:813: DeprecationWarning: The default of the `iid` parameter will change from True to False in version 0.22 and will be removed in 0.24. This will change numeric results when test-set sizes are unequal.\n",
      "  DeprecationWarning)\n"
     ]
    },
    {
     "name": "stdout",
     "output_type": "stream",
     "text": [
      "F1: 0.8947368421052632 Best params: {'clf__max_depth': 10, 'clf__n_estimators': 100}\n"
     ]
    },
    {
     "name": "stderr",
     "output_type": "stream",
     "text": [
      "C:\\Users\\levrex\\Anaconda3\\lib\\site-packages\\sklearn\\model_selection\\_search.py:813: DeprecationWarning: The default of the `iid` parameter will change from True to False in version 0.22 and will be removed in 0.24. This will change numeric results when test-set sizes are unequal.\n",
      "  DeprecationWarning)\n"
     ]
    },
    {
     "name": "stdout",
     "output_type": "stream",
     "text": [
      "F1: 0.8333333333333334 Best params: {'clf__max_depth': 10, 'clf__n_estimators': 100}\n"
     ]
    },
    {
     "name": "stderr",
     "output_type": "stream",
     "text": [
      "C:\\Users\\levrex\\Anaconda3\\lib\\site-packages\\sklearn\\model_selection\\_search.py:813: DeprecationWarning: The default of the `iid` parameter will change from True to False in version 0.22 and will be removed in 0.24. This will change numeric results when test-set sizes are unequal.\n",
      "  DeprecationWarning)\n"
     ]
    },
    {
     "name": "stdout",
     "output_type": "stream",
     "text": [
      "F1: 0.8333333333333334 Best params: {'clf__max_depth': 5, 'clf__n_estimators': 100}\n",
      "F1: 1.0 Best params: {'clf__max_depth': 5, 'clf__n_estimators': 100}\n",
      "Best model: SVM  F1-final: 1.0 Param: {'clf__C': 0.1, 'clf__kernel': 'linear'}\n"
     ]
    },
    {
     "name": "stderr",
     "output_type": "stream",
     "text": [
      "C:\\Users\\levrex\\Anaconda3\\lib\\site-packages\\sklearn\\model_selection\\_search.py:813: DeprecationWarning: The default of the `iid` parameter will change from True to False in version 0.22 and will be removed in 0.24. This will change numeric results when test-set sizes are unequal.\n",
      "  DeprecationWarning)\n"
     ]
    }
   ],
   "source": [
    "# large folds -> to ensure enough training & validation data\n",
    "from sklearn.pipeline import make_pipeline\n",
    "from sklearn.metrics import accuracy_score, classification_report\n",
    "from sklearn.metrics import f1_score\n",
    "from yellowbrick.model_selection import RFECV\n",
    "import pickle\n",
    "from sklearn.metrics import make_scorer\n",
    "from sklearn.linear_model import LassoCV\n",
    "from sklearn.ensemble import VotingClassifier\n",
    "from mlxtend.classifier import EnsembleVoteClassifier\n",
    "\n",
    "\n",
    "# Lasso regression ! \n",
    "sfm = SelectFromModel(LassoCV(cv=10))\n",
    "sfm.fit(X_train,y_train)\n",
    "\n",
    "\n",
    "print('Before Feature Selection: ', len(X_train.columns))\n",
    "X_train = sfm.transform(X_train) #.shape[1]\n",
    "print('After Feature Selection: ', len(X_train[0]))\n",
    "\n",
    "old_f1 = 0\n",
    "param = 0\n",
    "best_model = ''\n",
    "\n",
    "d_f1_measures = {}\n",
    "\n",
    "for nr in range(len(models)):\n",
    "    f1_list = []\n",
    "    estimator = models[nr]\n",
    "    if names[nr] == 'SVM':\n",
    "        param_grid =  {\n",
    "                'clf__kernel': ['linear', 'poly', 'sigmoid'], # 'rbf' -> not rbf as it is prone to overfitting!\n",
    "                'clf__C': [ 0.01, 0.01, 0.1, 1, 10, 100], # 0.01, 0.01, 0.1,\n",
    "            }\n",
    "    elif names[nr] == 'Random Forest':\n",
    "        param_grid =  {\n",
    "            'clf__max_depth': [5, 10, 20, 30],\n",
    "            'clf__n_estimators': [10, 100]\n",
    "            }\n",
    "    elif names[nr] == 'KNN':\n",
    "        param_grid = { \n",
    "            'clf__leaf_size': [5, 10, 20, 30, 40],\n",
    "            'clf__n_neighbors': [3, 5, 7, 9]\n",
    "            }\n",
    "    elif names[nr] == 'Naive Bayes':\n",
    "        param_grid = { \n",
    "            'clf__alpha': [1, 0.1, 0.01, 0.001, 0.0001, 0.00001],\n",
    "            }\n",
    "    kfold_outer = StratifiedKFold(n_splits=5,shuffle=True,random_state=SEED)\n",
    "    for i, (train, valid) in enumerate(kfold_outer.split(X_train, y_train)):\n",
    "        # reset\n",
    "        \n",
    "        #kfold_inner = StratifiedKFold(n_splits=3,shuffle=True,random_state=SEED)\n",
    "        \n",
    "        X_tr, y_tr, X_valid, y_valid = X_train[train], y_train[train], X_train[valid], y_train[valid]\n",
    "        grid = GridSearchCV(estimator, param_grid, cv=5, scoring='f1_micro')\n",
    "\n",
    "        grid.fit(X_tr, y_tr) \n",
    "        y_pred = grid.predict(X_valid)\n",
    "        f1 = f1_score(y_valid, y_pred, average='micro')\n",
    "        print('F1:', str(f1), 'Best params:', str(grid.best_params_))  # print best hyperparam\n",
    "        #print(classification_report(y_valid, y_pred, target_names=['1', '2', '3']))\n",
    "        f1_list.append(f1)\n",
    "    if f1 > old_f1:\n",
    "        print('New Best')\n",
    "        print('Final F1:', str(f1), 'Best params:', str(grid.best_params_))\n",
    "        pickle.dump(grid, open('models/optimal_model.sav', 'wb'))\n",
    "        old_f1 = f1\n",
    "        param = grid.best_params_\n",
    "        best_model = names[nr]\n",
    "    d_f1_measures[names[nr]] = f1_list\n",
    "        \n",
    "print('Best model:', best_model, ' F1-final:', old_f1, 'Param:', param)    "
   ]
  },
  {
   "cell_type": "markdown",
   "metadata": {},
   "source": [
    "## F1-measurements"
   ]
  },
  {
   "cell_type": "code",
   "execution_count": 44,
   "metadata": {},
   "outputs": [
    {
     "name": "stdout",
     "output_type": "stream",
     "text": [
      "SVM\n",
      "0.9345029239766081\n",
      "0.053520754098935926\n",
      "Naive Bayes\n",
      "0.8485380116959064\n",
      "0.09386648059524354\n",
      "KNN\n",
      "0.7796783625730994\n",
      "0.09403619693273821\n",
      "Random Forest\n",
      "0.8912280701754387\n",
      "0.06092545738310644\n"
     ]
    },
    {
     "data": {
      "text/plain": [
       "<Figure size 720x720 with 0 Axes>"
      ]
     },
     "metadata": {},
     "output_type": "display_data"
    },
    {
     "data": {
      "image/png": "[encoded data removed]",
      "text/plain": [
       "<Figure size 576x396 with 1 Axes>"
      ]
     },
     "metadata": {},
     "output_type": "display_data"
    }
   ],
   "source": [
    "import matplotlib.pyplot as plt\n",
    "\n",
    "#names.append('region 2184')\n",
    "x_pos = np.arange(len(d_f1_measures.keys()))\n",
    "l_mean = [] \n",
    "l_std = []\n",
    "for key in list(d_f1_measures.keys()):\n",
    "    val = np.array(d_f1_measures[key])\n",
    "    l_mean.append(np.mean(val))\n",
    "    l_std.append(np.std(val))\n",
    "    print(key)\n",
    "    print(np.mean(val))\n",
    "    print(np.std(val))\n",
    "\n",
    "    \n",
    "# Build the plot\n",
    "plt.figure(figsize=(10,10))\n",
    "fig, ax = plt.subplots()\n",
    "ax.bar(x_pos, l_mean, yerr=l_std, align='center', alpha=0.5, ecolor='black', capsize=10)\n",
    "ax.set_ylabel('F1-score +/- std')\n",
    "ax.set_xticks(x_pos)\n",
    "ax.tick_params(axis='both', which='major', labelsize=9)\n",
    "ax.set_xticklabels(names, rotation=45)\n",
    "ax.set_title('Barplot with micro average F1-score for the different classifiers')\n",
    "ax.yaxis.grid(True)\n",
    "ax.xaxis.grid(True)\n",
    "\n",
    "# Save the figure and show\n",
    "plt.tight_layout()\n",
    "plt.savefig('figures/f1_modelselection_barplot.png')\n",
    "plt.show()"
   ]
  },
  {
   "cell_type": "markdown",
   "metadata": {},
   "source": [
    "### Calculate Significance"
   ]
  },
  {
   "cell_type": "code",
   "execution_count": 65,
   "metadata": {},
   "outputs": [
    {
     "name": "stdout",
     "output_type": "stream",
     "text": [
      "SVM (p = 0.15023661540706784 )\n",
      "Naive Bayes (p = 1.0 )\n",
      "KNN (p = 0.33027280944496357 )\n",
      "Random Forest (p = 0.4673825986792739 )\n",
      "SVM_2184 (p = 0.01453425703973658 )\n"
     ]
    }
   ],
   "source": [
    "import scipy\n",
    "\n",
    "auc_ref = d_f1_measures['Naive Bayes']\n",
    "\n",
    "for key in d_f1_measures.keys(): # classifiers with probabilities\n",
    "    twosample_results = scipy.stats.ttest_ind(d_f1_measures[key], auc_ref)\n",
    "    print(key, '(p =', str(twosample_results[1]), ')')"
   ]
  },
  {
   "cell_type": "markdown",
   "metadata": {},
   "source": [
    "## Performance on Validation set"
   ]
  },
  {
   "cell_type": "code",
   "execution_count": 93,
   "metadata": {},
   "outputs": [
    {
     "name": "stdout",
     "output_type": "stream",
     "text": [
      "Before Feature Selection:  2834\n",
      "After Feature Selection:  40\n",
      "F1 final: 1.0 Best params: {'clf__C': 0.1, 'clf__kernel': 'linear'}\n",
      "              precision    recall  f1-score   support\n",
      "\n",
      "           0       1.00      1.00      1.00         3\n",
      "           1       1.00      1.00      1.00         2\n",
      "           2       1.00      1.00      1.00         5\n",
      "\n",
      "    accuracy                           1.00        10\n",
      "   macro avg       1.00      1.00      1.00        10\n",
      "weighted avg       1.00      1.00      1.00        10\n",
      "\n"
     ]
    }
   ],
   "source": [
    "import pickle \n",
    "\n",
    "best_model = pickle.load(open('models/optimal_model.sav', 'rb'))\n",
    "print('Before Feature Selection: ', len(X_test.columns))\n",
    "X_test_t = sfm.transform(X_test) #.shape[1]\n",
    "print('After Feature Selection: ', len(X_test_t[0]))\n",
    "y_pred =  best_model.predict(X_test_t)\n",
    "f1 = f1_score(y_test, y_pred, average='micro')\n",
    "print('F1 final:', str(f1), 'Best params:', str(best_model.best_params_))  # print best hyperparam\n",
    "print(classification_report(y_test, y_pred, target_names=['0', '1', '2']))"
   ]
  },
  {
   "cell_type": "code",
   "execution_count": 90,
   "metadata": {},
   "outputs": [
    {
     "name": "stdout",
     "output_type": "stream",
     "text": [
      "Confusion matrix, without normalization\n",
      "[[3 0 0]\n",
      " [0 2 0]\n",
      " [0 0 5]]\n"
     ]
    },
    {
     "data": {
      "image/png": "[encoded data removed]",
      "text/plain": [
       "<Figure size 576x396 with 2 Axes>"
      ]
     },
     "metadata": {},
     "output_type": "display_data"
    }
   ],
   "source": [
    "from sklearn.metrics import confusion_matrix\n",
    "def plot_confusion_matrix(cm, classes,\n",
    "                          normalize=False,\n",
    "                          title='Confusion matrix',\n",
    "                          cmap=plt.cm.Blues):\n",
    "    \"\"\"\n",
    "    This function prints and plots the confusion matrix.\n",
    "    Normalization can be applied by setting `normalize=True`.\n",
    "    \"\"\"\n",
    "    import itertools\n",
    "    if normalize:\n",
    "        cm = cm.astype('float') / cm.sum(axis=1)[:, np.newaxis]\n",
    "        print(\"Normalized confusion matrix\")\n",
    "    else:\n",
    "        print('Confusion matrix, without normalization')\n",
    "\n",
    "    print(cm)\n",
    "\n",
    "    plt.imshow(cm, interpolation='nearest', cmap=cmap)\n",
    "    plt.title(title, size=14)\n",
    "    plt.colorbar()\n",
    "    tick_marks = np.arange(len(classes))\n",
    "    plt.xticks(tick_marks, classes, rotation=45, size=14)\n",
    "    plt.yticks(tick_marks, classes, size=14)\n",
    "\n",
    "    fmt = '.2f' if normalize else 'd'\n",
    "    thresh = cm.max() / 2.\n",
    "    for i, j in itertools.product(range(cm.shape[0]), range(cm.shape[1])):\n",
    "        plt.text(j, i, format(cm[i, j], fmt),\n",
    "                 horizontalalignment=\"center\",\n",
    "                 color=\"white\" if cm[i, j] > thresh else \"black\", size=14)\n",
    "\n",
    "    plt.ylabel('True label', size=14)\n",
    "    plt.xlabel('Predicted label', size=14)\n",
    "    plt.tight_layout()\n",
    "    return plt\n",
    "    \n",
    "\n",
    "\n",
    "cnf_matrix = confusion_matrix(y_test, y_pred,labels=[0,1,2])\n",
    "np.set_printoptions(precision=2)\n",
    "\n",
    "# Plot non-normalized confusion matrix\n",
    "plt.figure()\n",
    "ax = plt.gca()\n",
    "ax.grid(False)\n",
    "plt = plot_confusion_matrix(cnf_matrix, classes=['HER2+', 'HR+', 'Triple Neg'],\n",
    "                      title='Confusion matrix, without normalization')\n",
    "plt.savefig(\"figures/cm_SVM_validation.png\")"
   ]
  },
  {
   "cell_type": "markdown",
   "metadata": {},
   "source": [
    "## Determine best regions"
   ]
  },
  {
   "cell_type": "code",
   "execution_count": 103,
   "metadata": {},
   "outputs": [
    {
     "data": {
      "image/png": "[encoded data removed]",
      "text/plain": [
       "<Figure size 1080x360 with 1 Axes>"
      ]
     },
     "metadata": {},
     "output_type": "display_data"
    }
   ],
   "source": [
    "from sklearn.feature_extraction.text import CountVectorizer\n",
    "from sklearn.svm import LinearSVC\n",
    "import matplotlib.pyplot as plt\n",
    "def plot_coefficients(classifier, feature_names, i, top_features=20):\n",
    "    names = ['HER2+', 'HR+', 'Triple Neg']\n",
    "    coef = classifier.best_estimator_.named_steps['clf'].coef_[i] #.ravel()\n",
    "    top_positive_coefficients = np.argsort(coef)[-top_features:]\n",
    "    top_negative_coefficients = np.argsort(coef)[:top_features]\n",
    "    top_coefficients = np.hstack([top_negative_coefficients, top_positive_coefficients])\n",
    "    # create plot\n",
    "    plt.figure(figsize=(15, 5))\n",
    "    colors = ['red' if c < 0 else 'blue' for c in coef[top_coefficients]]\n",
    "    plt.bar(np.arange(2 * top_features), coef[top_coefficients], color=colors)\n",
    "    feature_names = np.array(feature_names)\n",
    "    plt.xticks(np.arange(1, 1 + 2 * top_features), feature_names[top_coefficients], rotation=90, ha='right')\n",
    "    plt.savefig(\"figures/coef_plot_biomarkers_\" + names[i] +\".png\")\n",
    "    plt.show()\n",
    "    \n",
    "    d = {'id' : feature_names, 'hp' + str(i) + '_coef': coef}\n",
    "    df = pd.DataFrame(data=d)\n",
    "    return df\n",
    "\n",
    "# Retrieve features from initial fold features\n",
    "offset = 2\n",
    "df_coef_new = plot_coefficients(best_model, [i-offset for i in list(X_test[X_test.columns[sfm.get_support()]].columns)], i=2)"
   ]
  },
  {
   "cell_type": "code",
   "execution_count": 101,
   "metadata": {},
   "outputs": [
    {
     "data": {
      "text/html": [
       "<div>\n",
       "<style scoped>\n",
       "    .dataframe tbody tr th:only-of-type {\n",
       "        vertical-align: middle;\n",
       "    }\n",
       "\n",
       "    .dataframe tbody tr th {\n",
       "        vertical-align: top;\n",
       "    }\n",
       "\n",
       "    .dataframe thead th {\n",
       "        text-align: right;\n",
       "    }\n",
       "</style>\n",
       "<table border=\"1\" class=\"dataframe\">\n",
       "  <thead>\n",
       "    <tr style=\"text-align: right;\">\n",
       "      <th></th>\n",
       "      <th>id</th>\n",
       "      <th>hp1_coef</th>\n",
       "      <th>Chromosome</th>\n",
       "      <th>Start</th>\n",
       "      <th>End</th>\n",
       "      <th>hp2_coef</th>\n",
       "      <th>hp0_coef</th>\n",
       "    </tr>\n",
       "  </thead>\n",
       "  <tbody>\n",
       "    <tr>\n",
       "      <th>0</th>\n",
       "      <td>177</td>\n",
       "      <td>-0.113222</td>\n",
       "      <td>1</td>\n",
       "      <td>120405944</td>\n",
       "      <td>120737345</td>\n",
       "      <td>-0.166064</td>\n",
       "      <td>0.014277</td>\n",
       "    </tr>\n",
       "    <tr>\n",
       "      <th>1</th>\n",
       "      <td>192</td>\n",
       "      <td>0.090740</td>\n",
       "      <td>1</td>\n",
       "      <td>146581869</td>\n",
       "      <td>146634734</td>\n",
       "      <td>0.284539</td>\n",
       "      <td>0.037482</td>\n",
       "    </tr>\n",
       "    <tr>\n",
       "      <th>2</th>\n",
       "      <td>230</td>\n",
       "      <td>-0.040233</td>\n",
       "      <td>1</td>\n",
       "      <td>193652057</td>\n",
       "      <td>199041703</td>\n",
       "      <td>-0.003700</td>\n",
       "      <td>-0.071363</td>\n",
       "    </tr>\n",
       "    <tr>\n",
       "      <th>3</th>\n",
       "      <td>486</td>\n",
       "      <td>-0.089089</td>\n",
       "      <td>3</td>\n",
       "      <td>193425674</td>\n",
       "      <td>193467200</td>\n",
       "      <td>-0.056707</td>\n",
       "      <td>-0.164589</td>\n",
       "    </tr>\n",
       "    <tr>\n",
       "      <th>4</th>\n",
       "      <td>576</td>\n",
       "      <td>0.025135</td>\n",
       "      <td>4</td>\n",
       "      <td>93240865</td>\n",
       "      <td>100160841</td>\n",
       "      <td>0.187209</td>\n",
       "      <td>0.053722</td>\n",
       "    </tr>\n",
       "  </tbody>\n",
       "</table>\n",
       "</div>"
      ],
      "text/plain": [
       "    id  hp1_coef  Chromosome      Start        End  hp2_coef  hp0_coef\n",
       "0  177 -0.113222           1  120405944  120737345 -0.166064  0.014277\n",
       "1  192  0.090740           1  146581869  146634734  0.284539  0.037482\n",
       "2  230 -0.040233           1  193652057  199041703 -0.003700 -0.071363\n",
       "3  486 -0.089089           3  193425674  193467200 -0.056707 -0.164589\n",
       "4  576  0.025135           4   93240865  100160841  0.187209  0.053722"
      ]
     },
     "execution_count": 101,
     "metadata": {},
     "output_type": "execute_result"
    }
   ],
   "source": [
    "df_coef['Chromosome'] = df_coef['id'].apply(lambda x: ch.getChrPosition(x)[0])\n",
    "df_coef['Start'] = df_coef['id'].apply(lambda x: ch.getChrPosition(x)[1])\n",
    "df_coef['End'] = df_coef['id'].apply(lambda x: ch.getChrPosition(x)[2])\n",
    "df_coef.head()"
   ]
  },
  {
   "cell_type": "code",
   "execution_count": 98,
   "metadata": {},
   "outputs": [],
   "source": [
    "#df_coef.sort_values('coef').to_csv(r'results/SVM_biomarkers_coefs.csv', index=False)\n",
    "df_coef[['id', 'Chromosome', 'Start', 'End', 'hp0_coef', 'hp1_coef', 'hp2_coef']].sort_values('hp1_coef', ascending=False).to_csv(r'results/SVM_biomarkers_coefs_total.csv', index=False)"
   ]
  },
  {
   "cell_type": "code",
   "execution_count": 99,
   "metadata": {},
   "outputs": [
    {
     "data": {
      "text/html": [
       "<div>\n",
       "<style scoped>\n",
       "    .dataframe tbody tr th:only-of-type {\n",
       "        vertical-align: middle;\n",
       "    }\n",
       "\n",
       "    .dataframe tbody tr th {\n",
       "        vertical-align: top;\n",
       "    }\n",
       "\n",
       "    .dataframe thead th {\n",
       "        text-align: right;\n",
       "    }\n",
       "</style>\n",
       "<table border=\"1\" class=\"dataframe\">\n",
       "  <thead>\n",
       "    <tr style=\"text-align: right;\">\n",
       "      <th></th>\n",
       "      <th>id</th>\n",
       "      <th>coef</th>\n",
       "      <th>Chromosome</th>\n",
       "      <th>Start</th>\n",
       "      <th>End</th>\n",
       "    </tr>\n",
       "  </thead>\n",
       "  <tbody>\n",
       "    <tr>\n",
       "      <th>14</th>\n",
       "      <td>1243</td>\n",
       "      <td>0.123815</td>\n",
       "      <td>9</td>\n",
       "      <td>39355550</td>\n",
       "      <td>40238048</td>\n",
       "    </tr>\n",
       "    <tr>\n",
       "      <th>18</th>\n",
       "      <td>1656</td>\n",
       "      <td>0.130052</td>\n",
       "      <td>12</td>\n",
       "      <td>63340667</td>\n",
       "      <td>63566937</td>\n",
       "    </tr>\n",
       "    <tr>\n",
       "      <th>22</th>\n",
       "      <td>1881</td>\n",
       "      <td>0.135231</td>\n",
       "      <td>15</td>\n",
       "      <td>18362555</td>\n",
       "      <td>18431773</td>\n",
       "    </tr>\n",
       "    <tr>\n",
       "      <th>24</th>\n",
       "      <td>1902</td>\n",
       "      <td>0.138611</td>\n",
       "      <td>15</td>\n",
       "      <td>32447707</td>\n",
       "      <td>32511475</td>\n",
       "    </tr>\n",
       "    <tr>\n",
       "      <th>33</th>\n",
       "      <td>2184</td>\n",
       "      <td>0.646124</td>\n",
       "      <td>17</td>\n",
       "      <td>34900309</td>\n",
       "      <td>34977994</td>\n",
       "    </tr>\n",
       "  </tbody>\n",
       "</table>\n",
       "</div>"
      ],
      "text/plain": [
       "      id      coef  Chromosome     Start       End\n",
       "14  1243  0.123815           9  39355550  40238048\n",
       "18  1656  0.130052          12  63340667  63566937\n",
       "22  1881  0.135231          15  18362555  18431773\n",
       "24  1902  0.138611          15  32447707  32511475\n",
       "33  2184  0.646124          17  34900309  34977994"
      ]
     },
     "execution_count": 99,
     "metadata": {},
     "output_type": "execute_result"
    }
   ],
   "source": [
    "df_coef.sort_values('coef').tail()"
   ]
  },
  {
   "cell_type": "markdown",
   "metadata": {},
   "source": [
    "### Most informative region : Coefficient 2184?"
   ]
  },
  {
   "cell_type": "code",
   "execution_count": 108,
   "metadata": {},
   "outputs": [
    {
     "data": {
      "text/plain": [
       "<Figure size 288x288 with 0 Axes>"
      ]
     },
     "metadata": {},
     "output_type": "display_data"
    },
    {
     "data": {
      "image/png": "[encoded data removed]",
      "text/plain": [
       "<Figure size 576x396 with 1 Axes>"
      ]
     },
     "metadata": {},
     "output_type": "display_data"
    }
   ],
   "source": [
    "import matplotlib.pyplot as plt\n",
    "\n",
    "names = ['Hyperplane 1:\\nHER2+ vs. HR+', 'Hyperplane 2:\\nHER2+ vs. Triple Neg', 'Hyperplane 3:\\nHR+ vs. Triple Neg']\n",
    "val = [0.933, 0.646, 0.262] # directly obtained from feature plot\n",
    "x_pos = np.arange(len(val))\n",
    "\n",
    "# Build the plot\n",
    "plt.figure(figsize=(4,4))\n",
    "fig, ax = plt.subplots()\n",
    "ax.bar(x_pos, val, align='center', alpha=0.5, ecolor='black', color=['r', 'b', 'green'],capsize=10)\n",
    "ax.set_ylabel('F1-score +/- std', size=14)\n",
    "ax.set_xticks(x_pos)\n",
    "ax.tick_params(axis='both', which='major', labelsize=14)\n",
    "ax.set_xticklabels(names, rotation=0)\n",
    "ax.set_title('Size of coefficient 2184 for each hyperplane', size=14)\n",
    "ax.set_ylim(0,1)\n",
    "ax.yaxis.grid(False)\n",
    "ax.xaxis.grid(False)\n",
    "\n",
    "for i,j in zip(x_pos,val):\n",
    "    ax.annotate(str(j),xy=(i-0.11,j+0.01), size=14)\n",
    "\n",
    "# Save the figure and show\n",
    "plt.tight_layout()\n",
    "plt.savefig('figures/coef_2184_barplot.png')\n",
    "plt.show()"
   ]
  },
  {
   "cell_type": "markdown",
   "metadata": {},
   "source": [
    "## Employ Naive Model (Single Best Region)\n"
   ]
  },
  {
   "cell_type": "code",
   "execution_count": 33,
   "metadata": {},
   "outputs": [
    {
     "name": "stderr",
     "output_type": "stream",
     "text": [
      "C:\\Users\\levrex\\Anaconda3\\lib\\site-packages\\sklearn\\model_selection\\_search.py:813: DeprecationWarning: The default of the `iid` parameter will change from True to False in version 0.22 and will be removed in 0.24. This will change numeric results when test-set sizes are unequal.\n",
      "  DeprecationWarning)\n",
      "C:\\Users\\levrex\\Anaconda3\\lib\\site-packages\\sklearn\\model_selection\\_search.py:813: DeprecationWarning: The default of the `iid` parameter will change from True to False in version 0.22 and will be removed in 0.24. This will change numeric results when test-set sizes are unequal.\n",
      "  DeprecationWarning)\n"
     ]
    },
    {
     "name": "stdout",
     "output_type": "stream",
     "text": [
      "F1: 0.6842105263157895 Best params: {'C': 0.01, 'kernel': 'poly'}\n",
      "F1: 0.6842105263157895 Best params: {'C': 0.01, 'kernel': 'poly'}\n"
     ]
    },
    {
     "name": "stderr",
     "output_type": "stream",
     "text": [
      "C:\\Users\\levrex\\Anaconda3\\lib\\site-packages\\sklearn\\model_selection\\_search.py:813: DeprecationWarning: The default of the `iid` parameter will change from True to False in version 0.22 and will be removed in 0.24. This will change numeric results when test-set sizes are unequal.\n",
      "  DeprecationWarning)\n",
      "C:\\Users\\levrex\\Anaconda3\\lib\\site-packages\\sklearn\\model_selection\\_search.py:813: DeprecationWarning: The default of the `iid` parameter will change from True to False in version 0.22 and will be removed in 0.24. This will change numeric results when test-set sizes are unequal.\n",
      "  DeprecationWarning)\n"
     ]
    },
    {
     "name": "stdout",
     "output_type": "stream",
     "text": [
      "F1: 0.7222222222222222 Best params: {'C': 0.01, 'kernel': 'poly'}\n",
      "F1: 0.7222222222222222 Best params: {'C': 0.01, 'kernel': 'poly'}\n",
      "F1: 0.6875 Best params: {'C': 0.01, 'kernel': 'poly'}\n",
      "New Best\n",
      "Final F1: 0.6875 Best params: {'C': 0.01, 'kernel': 'poly'}\n",
      "Best model: SVM_2184  F1-final: 0.6875 Param: {'C': 0.01, 'kernel': 'poly'}\n"
     ]
    },
    {
     "name": "stderr",
     "output_type": "stream",
     "text": [
      "C:\\Users\\levrex\\Anaconda3\\lib\\site-packages\\sklearn\\model_selection\\_search.py:813: DeprecationWarning: The default of the `iid` parameter will change from True to False in version 0.22 and will be removed in 0.24. This will change numeric results when test-set sizes are unequal.\n",
      "  DeprecationWarning)\n"
     ]
    }
   ],
   "source": [
    "offset = 2\n",
    "feature_actual = 2184\n",
    "\n",
    "feature_id = feature_actual + offset\n",
    "print(feature_id)\n",
    "\n",
    "X_train_naive = X_train[feature_id].values.reshape(-1, 1)\n",
    "X_test_naive = X_test[feature_id].values.reshape(-1, 1)\n",
    "\n",
    "old_f1 = 0\n",
    "param = 0\n",
    "best_model = ''\n",
    "\n",
    "f1_list = []\n",
    "estimator = SVC(gamma='auto', random_state=SEED)\n",
    "kfold_outer = StratifiedKFold(n_splits=5,shuffle=True,random_state=SEED)\n",
    "param_grid =  {\n",
    "                'kernel': ['linear', 'poly', 'sigmoid'],\n",
    "                'C': [ 0.01, 0.01, 0.1, 1, 10, 100], \n",
    "        }\n",
    "\n",
    "for i, (train, valid) in enumerate(kfold_outer.split(X_train_naive, y_train)):\n",
    "    # reset\n",
    "\n",
    "    #kfold_inner = StratifiedKFold(n_splits=3,shuffle=True,random_state=SEED)\n",
    "\n",
    "    X_tr, y_tr, X_valid, y_valid = X_train_naive[train], y_train[train], X_train_naive[valid], y_train[valid]\n",
    "    grid = GridSearchCV(estimator, param_grid, cv=5, scoring='f1_micro')\n",
    "\n",
    "    grid.fit(X_tr, y_tr) \n",
    "    y_pred = grid.predict(X_valid)\n",
    "    f1 = f1_score(y_valid, y_pred, average='micro')\n",
    "    print('F1:', str(f1), 'Best params:', str(grid.best_params_))  # print best hyperparam\n",
    "\n",
    "    f1_list.append(f1)\n",
    "if f1 > old_f1:\n",
    "    print('New Best')\n",
    "    print('Final F1:', str(f1), 'Best params:', str(grid.best_params_))\n",
    "    pickle.dump(grid, open('models/region_model_' + str(feature_actual) +'.sav', 'wb'))\n",
    "    old_f1 = f1\n",
    "    param = grid.best_params_\n",
    "    best_model = 'SVM_' + str(feature_actual)\n",
    "d_f1_measures['SVM_' + str(feature_actual)] = f1_list\n",
    "        \n",
    "print('Best model:', best_model, ' F1-final:', old_f1, 'Param:', param)    "
   ]
  },
  {
   "cell_type": "code",
   "execution_count": 91,
   "metadata": {},
   "outputs": [
    {
     "name": "stdout",
     "output_type": "stream",
     "text": [
      "F1 final: 0.5 Best params: {'C': 0.01, 'kernel': 'poly'}\n",
      "              precision    recall  f1-score   support\n",
      "\n",
      "           0       1.00      1.00      1.00         3\n",
      "           1       0.29      1.00      0.44         2\n",
      "           2       0.00      0.00      0.00         5\n",
      "\n",
      "    accuracy                           0.50        10\n",
      "   macro avg       0.43      0.67      0.48        10\n",
      "weighted avg       0.36      0.50      0.39        10\n",
      "\n"
     ]
    },
    {
     "name": "stderr",
     "output_type": "stream",
     "text": [
      "C:\\Users\\levrex\\Anaconda3\\lib\\site-packages\\sklearn\\metrics\\classification.py:1437: UndefinedMetricWarning: Precision and F-score are ill-defined and being set to 0.0 in labels with no predicted samples.\n",
      "  'precision', 'predicted', average, warn_for)\n"
     ]
    }
   ],
   "source": [
    "import pickle \n",
    "\n",
    "best_model = pickle.load(open('models/region_model_2184.sav', 'rb'))\n",
    "y_pred =  best_model.predict(X_test_naive)\n",
    "f1 = f1_score(y_test, y_pred, average='micro')\n",
    "print('F1 final:', str(f1), 'Best params:', str(best_model.best_params_))  # print best hyperparam\n",
    "print(classification_report(y_test, y_pred, target_names=['0', '1', '2']))"
   ]
  },
  {
   "cell_type": "code",
   "execution_count": 92,
   "metadata": {},
   "outputs": [
    {
     "name": "stdout",
     "output_type": "stream",
     "text": [
      "Confusion matrix, without normalization\n",
      "[[3 0 0]\n",
      " [0 2 0]\n",
      " [0 5 0]]\n"
     ]
    },
    {
     "data": {
      "image/png": "[encoded data removed]",
      "text/plain": [
       "<Figure size 576x396 with 2 Axes>"
      ]
     },
     "metadata": {},
     "output_type": "display_data"
    }
   ],
   "source": [
    "cnf_matrix = confusion_matrix(y_test, y_pred,labels=[0,1,2])\n",
    "np.set_printoptions(precision=2)\n",
    "\n",
    "# Plot non-normalized confusion matrix\n",
    "plt.figure()\n",
    "ax = plt.gca()\n",
    "ax.grid(False)\n",
    "plt = plot_confusion_matrix(cnf_matrix, classes=['HER2+', 'HR+', 'Triple Neg'],\n",
    "                      title='Confusion matrix, without normalization')\n",
    "plt.savefig(\"figures/cm_single_region_validation.png\")"
   ]
  },
  {
   "cell_type": "code",
   "execution_count": 82,
   "metadata": {},
   "outputs": [
    {
     "name": "stdout",
     "output_type": "stream",
     "text": [
      "SVM\n",
      "0.9345029239766081\n",
      "0.053520754098935926\n",
      "SVM_2184\n",
      "0.7000730994152047\n",
      "0.01812452792110122\n"
     ]
    },
    {
     "data": {
      "image/png": "[encoded data removed]",
      "text/plain": [
       "<Figure size 576x396 with 1 Axes>"
      ]
     },
     "metadata": {},
     "output_type": "display_data"
    }
   ],
   "source": [
    "import matplotlib.pyplot as plt\n",
    "\n",
    "#names.append('region 2184')\n",
    "x_pos = [0, 1]\n",
    "l_mean = [] \n",
    "l_std = []\n",
    "for key in ['SVM', 'SVM_2184']:\n",
    "    val = np.array(d_f1_measures[key])\n",
    "    l_mean.append(np.mean(val))\n",
    "    l_std.append(np.std(val))\n",
    "    print(key)\n",
    "    print(np.mean(val))\n",
    "    print(np.std(val))\n",
    "    \n",
    "color=['b','orange']\n",
    "    \n",
    "# Build the plot\n",
    "\n",
    "fig, ax = plt.subplots()\n",
    "ax.figsize=(6,3)\n",
    "ax.bar(x_pos, l_mean, yerr=l_std, align='center', alpha=0.5, ecolor='black', color=color, capsize=12)\n",
    "ax.set_ylabel('F1-score +/- std', size=14)\n",
    "ax.set_xticks(x_pos)\n",
    "ax.tick_params(axis='both', which='major')\n",
    "ax.set_xticklabels(['SVM', 'region 2184'], rotation=0, size=14)\n",
    "ax.set_title('Barplot with micro average F1-score for the different classifiers', size=14)\n",
    "ax.yaxis.grid(True)\n",
    "ax.xaxis.grid(True)\n",
    "\n",
    "# Save the figure and show\n",
    "plt.tight_layout()\n",
    "plt.savefig('figures/f1_optimal_vs_region_barplot.png')\n",
    "plt.show()"
   ]
  }
 ],
 "metadata": {
  "kernelspec": {
   "display_name": "Python 3",
   "language": "python",
   "name": "python3"
  },
  "language_info": {
   "codemirror_mode": {
    "name": "ipython",
    "version": 3
   },
   "file_extension": ".py",
   "mimetype": "text/x-python",
   "name": "python",
   "nbconvert_exporter": "python",
   "pygments_lexer": "ipython3",
   "version": "3.7.3"
  }
 },
 "nbformat": 4,
 "nbformat_minor": 2
}
