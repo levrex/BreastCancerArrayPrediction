{
 "cells": [
  {
   "cell_type": "markdown",
   "metadata": {},
   "source": [
    "# Datamining"
   ]
  },
  {
   "cell_type": "code",
   "execution_count": 1,
   "metadata": {},
   "outputs": [
    {
     "name": "stdout",
     "output_type": "stream",
     "text": [
      "Current versions Modules:\n",
      "\n",
      "Pandas version:\t\t0.24.2\n",
      "Matplotlib version:\t3.1.0\n",
      "numpy version:\t\t1.16.4\n",
      "sklearn version:\t0.21.2\n"
     ]
    }
   ],
   "source": [
    "SEED = 26062019\n",
    "\n",
    "test_size = 0.5 \n",
    "\n",
    "import sys\n",
    "import numpy as np\n",
    "import pandas as pd\n",
    "from sklearn import __version__ as sk_vers\n",
    "import matplotlib.pyplot as plt\n",
    "from matplotlib import __version__ as m_vers\n",
    "#import pickle\n",
    "#from yellowbrick import __version__ as yb_vers\n",
    "#import random\n",
    "#from sklearn import datasets, svm, model_selection, tree, preprocessing, metrics\n",
    "#import sklearn.ensemble as ske\n",
    "#import re\n",
    "#import xgboost as xgb\n",
    "#import seaborn as sns\n",
    "\n",
    "\n",
    "print('Current versions Modules:\\n')\n",
    "print('Pandas version:\\t\\t' + pd.__version__)\n",
    "print('Matplotlib version:\\t' + m_vers)\n",
    "print('numpy version:\\t\\t' + np.__version__)\n",
    "print('sklearn version:\\t' + sk_vers)"
   ]
  },
  {
   "cell_type": "markdown",
   "metadata": {},
   "source": [
    "## Load data"
   ]
  },
  {
   "cell_type": "code",
   "execution_count": 2,
   "metadata": {},
   "outputs": [
    {
     "name": "stdout",
     "output_type": "stream",
     "text": [
      "nr of entries:  100\n"
     ]
    },
    {
     "data": {
      "text/html": [
       "<div>\n",
       "<style scoped>\n",
       "    .dataframe tbody tr th:only-of-type {\n",
       "        vertical-align: middle;\n",
       "    }\n",
       "\n",
       "    .dataframe tbody tr th {\n",
       "        vertical-align: top;\n",
       "    }\n",
       "\n",
       "    .dataframe thead th {\n",
       "        text-align: right;\n",
       "    }\n",
       "</style>\n",
       "<table border=\"1\" class=\"dataframe\">\n",
       "  <thead>\n",
       "    <tr style=\"text-align: right;\">\n",
       "      <th></th>\n",
       "      <th>0</th>\n",
       "      <th>1</th>\n",
       "      <th>2</th>\n",
       "      <th>3</th>\n",
       "      <th>4</th>\n",
       "      <th>5</th>\n",
       "      <th>6</th>\n",
       "      <th>7</th>\n",
       "      <th>8</th>\n",
       "      <th>9</th>\n",
       "      <th>...</th>\n",
       "      <th>2826</th>\n",
       "      <th>2827</th>\n",
       "      <th>2828</th>\n",
       "      <th>2829</th>\n",
       "      <th>2830</th>\n",
       "      <th>2831</th>\n",
       "      <th>2832</th>\n",
       "      <th>2833</th>\n",
       "      <th>2834</th>\n",
       "      <th>2835</th>\n",
       "    </tr>\n",
       "  </thead>\n",
       "  <tbody>\n",
       "    <tr>\n",
       "      <th>0</th>\n",
       "      <td>Array.129</td>\n",
       "      <td>HER2+</td>\n",
       "      <td>0</td>\n",
       "      <td>0</td>\n",
       "      <td>0</td>\n",
       "      <td>0</td>\n",
       "      <td>0</td>\n",
       "      <td>0</td>\n",
       "      <td>0</td>\n",
       "      <td>0</td>\n",
       "      <td>...</td>\n",
       "      <td>2</td>\n",
       "      <td>2</td>\n",
       "      <td>2</td>\n",
       "      <td>2</td>\n",
       "      <td>0</td>\n",
       "      <td>1</td>\n",
       "      <td>1</td>\n",
       "      <td>1</td>\n",
       "      <td>1</td>\n",
       "      <td>1</td>\n",
       "    </tr>\n",
       "    <tr>\n",
       "      <th>1</th>\n",
       "      <td>Array.34</td>\n",
       "      <td>HR+</td>\n",
       "      <td>0</td>\n",
       "      <td>0</td>\n",
       "      <td>0</td>\n",
       "      <td>0</td>\n",
       "      <td>0</td>\n",
       "      <td>0</td>\n",
       "      <td>0</td>\n",
       "      <td>0</td>\n",
       "      <td>...</td>\n",
       "      <td>1</td>\n",
       "      <td>1</td>\n",
       "      <td>1</td>\n",
       "      <td>1</td>\n",
       "      <td>1</td>\n",
       "      <td>1</td>\n",
       "      <td>1</td>\n",
       "      <td>1</td>\n",
       "      <td>1</td>\n",
       "      <td>1</td>\n",
       "    </tr>\n",
       "    <tr>\n",
       "      <th>2</th>\n",
       "      <td>Array.67</td>\n",
       "      <td>HR+</td>\n",
       "      <td>0</td>\n",
       "      <td>0</td>\n",
       "      <td>0</td>\n",
       "      <td>0</td>\n",
       "      <td>0</td>\n",
       "      <td>0</td>\n",
       "      <td>0</td>\n",
       "      <td>0</td>\n",
       "      <td>...</td>\n",
       "      <td>1</td>\n",
       "      <td>1</td>\n",
       "      <td>1</td>\n",
       "      <td>1</td>\n",
       "      <td>1</td>\n",
       "      <td>1</td>\n",
       "      <td>1</td>\n",
       "      <td>1</td>\n",
       "      <td>1</td>\n",
       "      <td>1</td>\n",
       "    </tr>\n",
       "    <tr>\n",
       "      <th>3</th>\n",
       "      <td>Array.24</td>\n",
       "      <td>Triple Neg</td>\n",
       "      <td>0</td>\n",
       "      <td>0</td>\n",
       "      <td>0</td>\n",
       "      <td>0</td>\n",
       "      <td>0</td>\n",
       "      <td>0</td>\n",
       "      <td>0</td>\n",
       "      <td>-1</td>\n",
       "      <td>...</td>\n",
       "      <td>0</td>\n",
       "      <td>0</td>\n",
       "      <td>0</td>\n",
       "      <td>0</td>\n",
       "      <td>0</td>\n",
       "      <td>0</td>\n",
       "      <td>0</td>\n",
       "      <td>0</td>\n",
       "      <td>0</td>\n",
       "      <td>0</td>\n",
       "    </tr>\n",
       "    <tr>\n",
       "      <th>4</th>\n",
       "      <td>Array.22</td>\n",
       "      <td>Triple Neg</td>\n",
       "      <td>0</td>\n",
       "      <td>0</td>\n",
       "      <td>0</td>\n",
       "      <td>0</td>\n",
       "      <td>0</td>\n",
       "      <td>0</td>\n",
       "      <td>0</td>\n",
       "      <td>0</td>\n",
       "      <td>...</td>\n",
       "      <td>1</td>\n",
       "      <td>1</td>\n",
       "      <td>1</td>\n",
       "      <td>1</td>\n",
       "      <td>1</td>\n",
       "      <td>1</td>\n",
       "      <td>1</td>\n",
       "      <td>1</td>\n",
       "      <td>1</td>\n",
       "      <td>1</td>\n",
       "    </tr>\n",
       "  </tbody>\n",
       "</table>\n",
       "<p>5 rows × 2836 columns</p>\n",
       "</div>"
      ],
      "text/plain": [
       "        0           1     2     3     4     5     6     7     8     9     ...  \\\n",
       "0  Array.129       HER2+     0     0     0     0     0     0     0     0  ...   \n",
       "1   Array.34         HR+     0     0     0     0     0     0     0     0  ...   \n",
       "2   Array.67         HR+     0     0     0     0     0     0     0     0  ...   \n",
       "3   Array.24  Triple Neg     0     0     0     0     0     0     0    -1  ...   \n",
       "4   Array.22  Triple Neg     0     0     0     0     0     0     0     0  ...   \n",
       "\n",
       "   2826  2827  2828  2829  2830  2831  2832  2833  2834  2835  \n",
       "0     2     2     2     2     0     1     1     1     1     1  \n",
       "1     1     1     1     1     1     1     1     1     1     1  \n",
       "2     1     1     1     1     1     1     1     1     1     1  \n",
       "3     0     0     0     0     0     0     0     0     0     0  \n",
       "4     1     1     1     1     1     1     1     1     1     1  \n",
       "\n",
       "[5 rows x 2836 columns]"
      ]
     },
     "execution_count": 2,
     "metadata": {},
     "output_type": "execute_result"
    }
   ],
   "source": [
    "df_bitm = pd.read_csv(r'data/BITM_Cancer_dataset.csv', sep='\\t', header=None)\n",
    "print('nr of entries: ', len(df_bitm))\n",
    "\n",
    "df_bitm.head()"
   ]
  },
  {
   "cell_type": "code",
   "execution_count": 3,
   "metadata": {},
   "outputs": [
    {
     "name": "stdout",
     "output_type": "stream",
     "text": [
      "(32, 36, 32)\n"
     ]
    },
    {
     "data": {
      "image/png": "[encoded data removed]",
      "text/plain": [
       "<Figure size 360x360 with 1 Axes>"
      ]
     },
     "metadata": {
      "needs_background": "light"
     },
     "output_type": "display_data"
    }
   ],
   "source": [
    "from collections import Counter\n",
    "\n",
    "labels, values = zip(*Counter(df_bitm[1]).items())\n",
    "print(values)\n",
    "df = pd.DataFrame({'section':labels, 'frequency':values})\n",
    "ax = df.plot(kind='bar',  title =\"Categories Variable\", figsize=(5, 5), x='section', legend=True, fontsize=12, rot=90)"
   ]
  },
  {
   "cell_type": "markdown",
   "metadata": {},
   "source": [
    "### Import important modules"
   ]
  },
  {
   "cell_type": "code",
   "execution_count": 4,
   "metadata": {},
   "outputs": [],
   "source": [
    "from sklearn.datasets import load_iris\n",
    "from matplotlib import pyplot as plt\n",
    "from sklearn.svm import SVC\n",
    "from sklearn.model_selection import GridSearchCV, cross_val_score, KFold, StratifiedKFold\n",
    "import numpy as np"
   ]
  },
  {
   "cell_type": "markdown",
   "metadata": {},
   "source": [
    "## Feature Reduction"
   ]
  },
  {
   "cell_type": "code",
   "execution_count": 5,
   "metadata": {},
   "outputs": [],
   "source": [
    "X = df_bitm[df_bitm.columns[2:]]\n",
    "y = df_bitm[df_bitm.columns[1]]\n"
   ]
  },
  {
   "cell_type": "markdown",
   "metadata": {},
   "source": [
    "## Double Cross Validation"
   ]
  },
  {
   "cell_type": "code",
   "execution_count": null,
   "metadata": {},
   "outputs": [],
   "source": [
    "def Recursive_feature_elimination(X_train_outer, y_train_outer, X_test_outer):\n",
    "        rfe = RFECV(estimator=self.model, cv=StratifiedKFold(2))\n",
    "        rfe.fit(X_train_outer, y_train_outer)\n",
    "        log.info('Best number of features was: {0}'.format(rfe.n_features_))\n",
    "        return rfe.transform(X_train_outer), rfe.transform(X_test_outer)\n",
    "        # Assign selected features to data"
   ]
  },
  {
   "cell_type": "code",
   "execution_count": 8,
   "metadata": {},
   "outputs": [
    {
     "name": "stdout",
     "output_type": "stream",
     "text": [
      "Optimal number of features : 17\n"
     ]
    },
    {
     "data": {
      "image/png": "[encoded data removed]",
      "text/plain": [
       "<Figure size 432x288 with 1 Axes>"
      ]
     },
     "metadata": {
      "needs_background": "light"
     },
     "output_type": "display_data"
    }
   ],
   "source": [
    "from sklearn.model_selection import StratifiedKFold\n",
    "from sklearn.feature_selection import RFECV\n",
    "# Create the RFE object and compute a cross-validated score.\n",
    "svc = SVC(kernel=\"linear\")\n",
    "# The \"accuracy\" scoring is proportional to the number of correct\n",
    "# classifications\n",
    "rfecv = RFECV(estimator=svc, step=1, cv=StratifiedKFold(2),\n",
    "              scoring='accuracy')\n",
    "rfecv.fit(X, y)\n",
    "\n",
    "print(\"Optimal number of features : %d\" % rfecv.n_features_)\n",
    "\n",
    "# Plot number of features VS. cross-validation scores\n",
    "plt.figure()\n",
    "plt.xlabel(\"Number of features selected\")\n",
    "plt.ylabel(\"Cross validation score (nb of correct classifications)\")\n",
    "plt.plot(range(1, len(rfecv.grid_scores_) + 1), rfecv.grid_scores_)\n",
    "plt.show()"
   ]
  },
  {
   "cell_type": "code",
   "execution_count": 6,
   "metadata": {},
   "outputs": [
    {
     "name": "stderr",
     "output_type": "stream",
     "text": [
      "C:\\Users\\levrex\\Anaconda3\\lib\\site-packages\\sklearn\\svm\\base.py:193: FutureWarning: The default value of gamma will change from 'auto' to 'scale' in version 0.22 to account better for unscaled features. Set gamma explicitly to 'auto' or 'scale' to avoid this warning.\n",
      "  \"avoid this warning.\", FutureWarning)\n",
      "C:\\Users\\levrex\\Anaconda3\\lib\\site-packages\\sklearn\\metrics\\classification.py:1437: UndefinedMetricWarning: F-score is ill-defined and being set to 0.0 in labels with no predicted samples.\n",
      "  'precision', 'predicted', average, warn_for)\n",
      "C:\\Users\\levrex\\Anaconda3\\lib\\site-packages\\sklearn\\svm\\base.py:193: FutureWarning: The default value of gamma will change from 'auto' to 'scale' in version 0.22 to account better for unscaled features. Set gamma explicitly to 'auto' or 'scale' to avoid this warning.\n",
      "  \"avoid this warning.\", FutureWarning)\n",
      "C:\\Users\\levrex\\Anaconda3\\lib\\site-packages\\sklearn\\svm\\base.py:193: FutureWarning: The default value of gamma will change from 'auto' to 'scale' in version 0.22 to account better for unscaled features. Set gamma explicitly to 'auto' or 'scale' to avoid this warning.\n",
      "  \"avoid this warning.\", FutureWarning)\n"
     ]
    },
    {
     "name": "stdout",
     "output_type": "stream",
     "text": [
      "Iteration: 0 F1: 0.17777777777777778 C:  0.1\n",
      "Iteration: 1 F1: 0.30501089324618735 C:  1\n",
      "Iteration: 2 F1: 0.6174089068825911 C:  10\n",
      "F1-Inner: 0.6174089068825911 C:  10\n",
      "F1-final: 0.6874762808349146\n",
      "Iteration: 0 F1: 0.17777777777777778 C:  0.1\n",
      "Iteration: 1 F1: 0.30069930069930073 C:  1\n",
      "Iteration:"
     ]
    },
    {
     "name": "stderr",
     "output_type": "stream",
     "text": [
      "C:\\Users\\levrex\\Anaconda3\\lib\\site-packages\\sklearn\\svm\\base.py:193: FutureWarning: The default value of gamma will change from 'auto' to 'scale' in version 0.22 to account better for unscaled features. Set gamma explicitly to 'auto' or 'scale' to avoid this warning.\n",
      "  \"avoid this warning.\", FutureWarning)\n",
      "C:\\Users\\levrex\\Anaconda3\\lib\\site-packages\\sklearn\\metrics\\classification.py:1437: UndefinedMetricWarning: F-score is ill-defined and being set to 0.0 in labels with no predicted samples.\n",
      "  'precision', 'predicted', average, warn_for)\n",
      "C:\\Users\\levrex\\Anaconda3\\lib\\site-packages\\sklearn\\svm\\base.py:193: FutureWarning: The default value of gamma will change from 'auto' to 'scale' in version 0.22 to account better for unscaled features. Set gamma explicitly to 'auto' or 'scale' to avoid this warning.\n",
      "  \"avoid this warning.\", FutureWarning)\n",
      "C:\\Users\\levrex\\Anaconda3\\lib\\site-packages\\sklearn\\metrics\\classification.py:1437: UndefinedMetricWarning: F-score is ill-defined and being set to 0.0 in labels with no predicted samples.\n",
      "  'precision', 'predicted', average, warn_for)\n",
      "C:\\Users\\levrex\\Anaconda3\\lib\\site-packages\\sklearn\\svm\\base.py:193: FutureWarning: The default value of gamma will change from 'auto' to 'scale' in version 0.22 to account better for unscaled features. Set gamma explicitly to 'auto' or 'scale' to avoid this warning.\n",
      "  \"avoid this warning.\", FutureWarning)\n",
      "C:\\Users\\levrex\\Anaconda3\\lib\\site-packages\\sklearn\\svm\\base.py:193: FutureWarning: The default value of gamma will change from 'auto' to 'scale' in version 0.22 to account better for unscaled features. Set gamma explicitly to 'auto' or 'scale' to avoid this warning.\n",
      "  \"avoid this warning.\", FutureWarning)\n",
      "C:\\Users\\levrex\\Anaconda3\\lib\\site-packages\\sklearn\\metrics\\classification.py:1437: UndefinedMetricWarning: F-score is ill-defined and being set to 0.0 in labels with no predicted samples.\n",
      "  'precision', 'predicted', average, warn_for)\n"
     ]
    },
    {
     "name": "stdout",
     "output_type": "stream",
     "text": [
      " 2 F1: 0.8167832167832167 C:  10\n",
      "F1-Inner: 0.8167832167832167 C:  10\n",
      "F1-final: 0.6851851851851852\n",
      "Iteration: 0 F1: 0.16666666666666666 C:  0.1\n",
      "Iteration: 1 F1: 0.43469785575048725 C:  1\n",
      "Iteration: 2 F1: 0.5423280423280423 C:  10\n",
      "F1-Inner: 0.5423280423280423 C:  10\n",
      "F1-final: 0.65\n"
     ]
    },
    {
     "name": "stderr",
     "output_type": "stream",
     "text": [
      "C:\\Users\\levrex\\Anaconda3\\lib\\site-packages\\sklearn\\svm\\base.py:193: FutureWarning: The default value of gamma will change from 'auto' to 'scale' in version 0.22 to account better for unscaled features. Set gamma explicitly to 'auto' or 'scale' to avoid this warning.\n",
      "  \"avoid this warning.\", FutureWarning)\n",
      "C:\\Users\\levrex\\Anaconda3\\lib\\site-packages\\sklearn\\metrics\\classification.py:1437: UndefinedMetricWarning: F-score is ill-defined and being set to 0.0 in labels with no predicted samples.\n",
      "  'precision', 'predicted', average, warn_for)\n",
      "C:\\Users\\levrex\\Anaconda3\\lib\\site-packages\\sklearn\\svm\\base.py:193: FutureWarning: The default value of gamma will change from 'auto' to 'scale' in version 0.22 to account better for unscaled features. Set gamma explicitly to 'auto' or 'scale' to avoid this warning.\n",
      "  \"avoid this warning.\", FutureWarning)\n"
     ]
    }
   ],
   "source": [
    "# large folds -> to ensure enough training & validation data\n",
    "from sklearn.pipeline import make_pipeline\n",
    "from sklearn.metrics import accuracy_score, classification_report\n",
    "from sklearn.metrics import f1_score\n",
    "import pickle\n",
    "\n",
    "SEED = 26062019\n",
    "\n",
    "X = df_bitm[df_bitm.columns[2:]]\n",
    "y = df_bitm[df_bitm.columns[1]]\n",
    "\n",
    "hyperparam = [0.1, 1, 10, 100]\n",
    "kfold_outer = StratifiedKFold(n_splits=3,shuffle=True,random_state=SEED)\n",
    "\n",
    "pipe = make_pipeline(preprocessing.StandardScaler(), SVC(C=hyperparam[i]))\n",
    "param_grid\n",
    "\n",
    "## later omringen met kfold_outer\n",
    "for i, (train, valid) in enumerate(kfold_outer.split(X, y)):\n",
    "    # reset\n",
    "    old_f1 = 0\n",
    "    param = 0\n",
    "    kfold_inner = StratifiedKFold(n_splits=3,shuffle=True,random_state=SEED)\n",
    "    best_model = ''\n",
    "    X_train, y_train, X_valid, y_valid = X.iloc[train], y.iloc[train], X.iloc[valid], y.iloc[valid]\n",
    "    for i, (in_train, in_test) in enumerate(kfold_inner.split(X_train, y_train)):\n",
    "        clf = SVC(C=hyperparam[i])\n",
    "        clf.fit(X_train.iloc[in_train], y_train.iloc[in_train])\n",
    "        y_pred = clf.predict(X_train.iloc[in_test])\n",
    "        #print(clf.coef_[:10])\n",
    "        f1 = f1_score(y_train.iloc[in_test], y_pred, average='macro')\n",
    "        print('Iteration:', str(i), 'F1:', str(f1), 'C: ', str(hyperparam[i]))\n",
    "        #print(classification_report(y_train.iloc[in_test], y_pred, target_names=['1', '2', '3']))\n",
    "        if f1 > old_f1:\n",
    "            pickle.dump(clf, open('models/optimal_model.sav', 'wb'))\n",
    "            old_f1 = f1\n",
    "            param = hyperparam[i]\n",
    "        # if performance > old_performance # macro F1\n",
    "        # return model\n",
    "    # Load best model\n",
    "    print('F1-Inner:', old_f1, 'C: ', param)\n",
    "    optimal_model = pickle.load(open('models/optimal_model.sav', 'rb'))\n",
    "    final_y_pred = optimal_model.predict(X_valid)\n",
    "    final_f1 = f1_score(y_valid, final_y_pred, average='macro')\n",
    "    print('F1-final:', final_f1)\n",
    "    "
   ]
  },
  {
   "cell_type": "code",
   "execution_count": null,
   "metadata": {},
   "outputs": [],
   "source": [
    "# Hyperparameter tuning\n",
    "\n",
    "p_grid = {\"C\": [1, 10, 100],\n",
    "          \"gamma\": [.01, .1]}"
   ]
  },
  {
   "cell_type": "code",
   "execution_count": null,
   "metadata": {},
   "outputs": [],
   "source": [
    "class PipelineRFE(Pipeline):\n",
    "    def fit(self, X, y=None, **fit_params):\n",
    "        super(PipelineRFE, self).fit(X, y, **fit_params)\n",
    "        self.feature_importances_ = self.steps[-1][-1].feature_importances_\n",
    "        return self"
   ]
  },
  {
   "cell_type": "code",
   "execution_count": 174,
   "metadata": {},
   "outputs": [],
   "source": [
    "from sklearn.neighbors import KNeighborsClassifier\n",
    "from sklearn.feature_selection import RFECV\n",
    "#from yellowbrick.model_selection import rfecv\n",
    "from sklearn.naive_bayes import MultinomialNB\n",
    "from sklearn.pipeline import Pipeline\n",
    "from sklearn.linear_model import Lasso\n",
    "from sklearn.feature_selection import SelectFromModel\n",
    "\n",
    "models = [\n",
    "    # Support Vector Machine - 1\n",
    "    Pipeline([\n",
    "                ('clf', SVC(gamma='auto', random_state=SEED))\n",
    "            ]),\n",
    "    # Naive Bayes - 2\n",
    "    Pipeline([\n",
    "                ('clf', MultinomialNB()),\n",
    "            ]),\n",
    "    # K Nearest Neighbours - 3\n",
    "    Pipeline([\n",
    "                ('clf', KNeighborsClassifier()), # hidden_layer_sizes=(5, 2), , \n",
    "            ]),\n",
    "    # Random Forest - 4\n",
    "    Pipeline([\n",
    "                ('clf', RandomForestClassifier(random_state=SEED)), # n_estimators=100, max_depth=2,\n",
    "            ]),\n",
    "    ]\n",
    "\n",
    "names = ['SVM', 'Naive Bayes', 'KNN', 'Random Forest']\n",
    "pal = ['r', 'c', 'b', 'y', 'magenta', 'darkgreen', 'indigo', 'black', 'orange'] "
   ]
  },
  {
   "cell_type": "code",
   "execution_count": 131,
   "metadata": {},
   "outputs": [
    {
     "name": "stdout",
     "output_type": "stream",
     "text": [
      "['HER2+' 'HR+' 'Triple Neg']\n"
     ]
    }
   ],
   "source": [
    "print(df_bitm[df_bitm.columns[1]].unique())"
   ]
  },
  {
   "cell_type": "code",
   "execution_count": 99,
   "metadata": {},
   "outputs": [
    {
     "data": {
      "text/plain": [
       "50"
      ]
     },
     "execution_count": 99,
     "metadata": {},
     "output_type": "execute_result"
    }
   ],
   "source": [
    "len(n_features[0])"
   ]
  },
  {
   "cell_type": "code",
   "execution_count": 206,
   "metadata": {},
   "outputs": [
    {
     "name": "stdout",
     "output_type": "stream",
     "text": [
      "Before Feature Selection:  2834\n",
      "After Feature Selection:  40\n",
      "F1: 0.9354838709677419 Best params: {'clf__C': 1, 'clf__kernel': 'linear'}\n",
      "              precision    recall  f1-score   support\n",
      "\n",
      "           1       1.00      1.00      1.00        10\n",
      "           2       0.86      1.00      0.92        12\n",
      "           3       1.00      0.78      0.88         9\n",
      "\n",
      "    accuracy                           0.94        31\n",
      "   macro avg       0.95      0.93      0.93        31\n",
      "weighted avg       0.94      0.94      0.93        31\n",
      "\n",
      "F1: 0.9 Best params: {'clf__C': 1, 'clf__kernel': 'poly'}\n",
      "              precision    recall  f1-score   support\n",
      "\n",
      "           1       1.00      0.80      0.89        10\n",
      "           2       0.83      0.91      0.87        11\n",
      "           3       0.90      1.00      0.95         9\n",
      "\n",
      "    accuracy                           0.90        30\n",
      "   macro avg       0.91      0.90      0.90        30\n",
      "weighted avg       0.91      0.90      0.90        30\n",
      "\n"
     ]
    },
    {
     "name": "stderr",
     "output_type": "stream",
     "text": [
      "C:\\Users\\levrex\\Anaconda3\\lib\\site-packages\\sklearn\\model_selection\\_search.py:813: DeprecationWarning: The default of the `iid` parameter will change from True to False in version 0.22 and will be removed in 0.24. This will change numeric results when test-set sizes are unequal.\n",
      "  DeprecationWarning)\n",
      "C:\\Users\\levrex\\Anaconda3\\lib\\site-packages\\sklearn\\model_selection\\_search.py:813: DeprecationWarning: The default of the `iid` parameter will change from True to False in version 0.22 and will be removed in 0.24. This will change numeric results when test-set sizes are unequal.\n",
      "  DeprecationWarning)\n",
      "C:\\Users\\levrex\\Anaconda3\\lib\\site-packages\\sklearn\\model_selection\\_search.py:813: DeprecationWarning: The default of the `iid` parameter will change from True to False in version 0.22 and will be removed in 0.24. This will change numeric results when test-set sizes are unequal.\n",
      "  DeprecationWarning)\n",
      "C:\\Users\\levrex\\Anaconda3\\lib\\site-packages\\sklearn\\model_selection\\_search.py:813: DeprecationWarning: The default of the `iid` parameter will change from True to False in version 0.22 and will be removed in 0.24. This will change numeric results when test-set sizes are unequal.\n",
      "  DeprecationWarning)\n",
      "C:\\Users\\levrex\\Anaconda3\\lib\\site-packages\\sklearn\\model_selection\\_search.py:813: DeprecationWarning: The default of the `iid` parameter will change from True to False in version 0.22 and will be removed in 0.24. This will change numeric results when test-set sizes are unequal.\n",
      "  DeprecationWarning)\n",
      "C:\\Users\\levrex\\Anaconda3\\lib\\site-packages\\sklearn\\model_selection\\_search.py:813: DeprecationWarning: The default of the `iid` parameter will change from True to False in version 0.22 and will be removed in 0.24. This will change numeric results when test-set sizes are unequal.\n",
      "  DeprecationWarning)\n"
     ]
    },
    {
     "name": "stdout",
     "output_type": "stream",
     "text": [
      "F1: 0.896551724137931 Best params: {'clf__C': 1, 'clf__kernel': 'linear'}\n",
      "              precision    recall  f1-score   support\n",
      "\n",
      "           1       1.00      1.00      1.00         9\n",
      "           2       0.90      0.82      0.86        11\n",
      "           3       0.80      0.89      0.84         9\n",
      "\n",
      "    accuracy                           0.90        29\n",
      "   macro avg       0.90      0.90      0.90        29\n",
      "weighted avg       0.90      0.90      0.90        29\n",
      "\n",
      "New Best\n",
      "Final F1: 0.896551724137931 Best params: {'clf__C': 1, 'clf__kernel': 'linear'}\n",
      "F1: 0.8387096774193549 Best params: {'clf__alpha': 1}\n",
      "              precision    recall  f1-score   support\n",
      "\n",
      "           1       0.88      0.70      0.78        10\n",
      "           2       0.73      0.92      0.81        12\n",
      "           3       1.00      0.89      0.94         9\n",
      "\n",
      "    accuracy                           0.84        31\n",
      "   macro avg       0.87      0.84      0.84        31\n",
      "weighted avg       0.86      0.84      0.84        31\n",
      "\n",
      "F1: 0.7666666666666667 Best params: {'clf__alpha': 1}\n",
      "              precision    recall  f1-score   support\n",
      "\n",
      "           1       0.70      0.70      0.70        10\n",
      "           2       0.69      0.82      0.75        11\n",
      "           3       1.00      0.78      0.88         9\n",
      "\n",
      "    accuracy                           0.77        30\n",
      "   macro avg       0.80      0.77      0.78        30\n",
      "weighted avg       0.79      0.77      0.77        30\n",
      "\n",
      "F1: 0.896551724137931 Best params: {'clf__alpha': 1}\n",
      "              precision    recall  f1-score   support\n",
      "\n",
      "           1       1.00      0.89      0.94         9\n",
      "           2       0.83      0.91      0.87        11\n",
      "           3       0.89      0.89      0.89         9\n",
      "\n",
      "    accuracy                           0.90        29\n",
      "   macro avg       0.91      0.90      0.90        29\n",
      "weighted avg       0.90      0.90      0.90        29\n",
      "\n"
     ]
    },
    {
     "name": "stderr",
     "output_type": "stream",
     "text": [
      "C:\\Users\\levrex\\Anaconda3\\lib\\site-packages\\sklearn\\model_selection\\_search.py:813: DeprecationWarning: The default of the `iid` parameter will change from True to False in version 0.22 and will be removed in 0.24. This will change numeric results when test-set sizes are unequal.\n",
      "  DeprecationWarning)\n"
     ]
    },
    {
     "name": "stdout",
     "output_type": "stream",
     "text": [
      "F1: 0.6774193548387096 Best params: {'clf__leaf_size': 5, 'clf__n_neighbors': 5}\n",
      "              precision    recall  f1-score   support\n",
      "\n",
      "           1       1.00      0.60      0.75        10\n",
      "           2       0.55      0.92      0.69        12\n",
      "           3       0.80      0.44      0.57         9\n",
      "\n",
      "    accuracy                           0.68        31\n",
      "   macro avg       0.78      0.65      0.67        31\n",
      "weighted avg       0.77      0.68      0.67        31\n",
      "\n"
     ]
    },
    {
     "name": "stderr",
     "output_type": "stream",
     "text": [
      "C:\\Users\\levrex\\Anaconda3\\lib\\site-packages\\sklearn\\model_selection\\_search.py:813: DeprecationWarning: The default of the `iid` parameter will change from True to False in version 0.22 and will be removed in 0.24. This will change numeric results when test-set sizes are unequal.\n",
      "  DeprecationWarning)\n"
     ]
    },
    {
     "name": "stdout",
     "output_type": "stream",
     "text": [
      "F1: 0.8000000000000002 Best params: {'clf__leaf_size': 5, 'clf__n_neighbors': 3}\n",
      "              precision    recall  f1-score   support\n",
      "\n",
      "           1       0.75      0.90      0.82        10\n",
      "           2       1.00      0.64      0.78        11\n",
      "           3       0.73      0.89      0.80         9\n",
      "\n",
      "    accuracy                           0.80        30\n",
      "   macro avg       0.83      0.81      0.80        30\n",
      "weighted avg       0.83      0.80      0.80        30\n",
      "\n"
     ]
    },
    {
     "name": "stderr",
     "output_type": "stream",
     "text": [
      "C:\\Users\\levrex\\Anaconda3\\lib\\site-packages\\sklearn\\model_selection\\_search.py:813: DeprecationWarning: The default of the `iid` parameter will change from True to False in version 0.22 and will be removed in 0.24. This will change numeric results when test-set sizes are unequal.\n",
      "  DeprecationWarning)\n"
     ]
    },
    {
     "name": "stdout",
     "output_type": "stream",
     "text": [
      "F1: 0.7931034482758621 Best params: {'clf__leaf_size': 10, 'clf__n_neighbors': 9}\n",
      "              precision    recall  f1-score   support\n",
      "\n",
      "           1       0.75      1.00      0.86         9\n",
      "           2       0.78      0.64      0.70        11\n",
      "           3       0.88      0.78      0.82         9\n",
      "\n",
      "    accuracy                           0.79        29\n",
      "   macro avg       0.80      0.80      0.79        29\n",
      "weighted avg       0.80      0.79      0.79        29\n",
      "\n"
     ]
    },
    {
     "name": "stderr",
     "output_type": "stream",
     "text": [
      "C:\\Users\\levrex\\Anaconda3\\lib\\site-packages\\sklearn\\model_selection\\_search.py:813: DeprecationWarning: The default of the `iid` parameter will change from True to False in version 0.22 and will be removed in 0.24. This will change numeric results when test-set sizes are unequal.\n",
      "  DeprecationWarning)\n"
     ]
    },
    {
     "name": "stdout",
     "output_type": "stream",
     "text": [
      "F1: 0.9032258064516129 Best params: {'clf__max_depth': 10, 'clf__n_estimators': 100}\n",
      "              precision    recall  f1-score   support\n",
      "\n",
      "           1       1.00      1.00      1.00        10\n",
      "           2       0.85      0.92      0.88        12\n",
      "           3       0.88      0.78      0.82         9\n",
      "\n",
      "    accuracy                           0.90        31\n",
      "   macro avg       0.91      0.90      0.90        31\n",
      "weighted avg       0.90      0.90      0.90        31\n",
      "\n"
     ]
    },
    {
     "name": "stderr",
     "output_type": "stream",
     "text": [
      "C:\\Users\\levrex\\Anaconda3\\lib\\site-packages\\sklearn\\model_selection\\_search.py:813: DeprecationWarning: The default of the `iid` parameter will change from True to False in version 0.22 and will be removed in 0.24. This will change numeric results when test-set sizes are unequal.\n",
      "  DeprecationWarning)\n"
     ]
    },
    {
     "name": "stdout",
     "output_type": "stream",
     "text": [
      "F1: 0.8000000000000002 Best params: {'clf__max_depth': 5, 'clf__n_estimators': 100}\n",
      "              precision    recall  f1-score   support\n",
      "\n",
      "           1       0.82      0.90      0.86        10\n",
      "           2       0.75      0.82      0.78        11\n",
      "           3       0.86      0.67      0.75         9\n",
      "\n",
      "    accuracy                           0.80        30\n",
      "   macro avg       0.81      0.79      0.80        30\n",
      "weighted avg       0.80      0.80      0.80        30\n",
      "\n",
      "F1: 0.896551724137931 Best params: {'clf__max_depth': 10, 'clf__n_estimators': 100}\n",
      "              precision    recall  f1-score   support\n",
      "\n",
      "           1       1.00      0.78      0.88         9\n",
      "           2       0.83      0.91      0.87        11\n",
      "           3       0.90      1.00      0.95         9\n",
      "\n",
      "    accuracy                           0.90        29\n",
      "   macro avg       0.91      0.90      0.90        29\n",
      "weighted avg       0.91      0.90      0.90        29\n",
      "\n",
      "Best model: SVM  F1-final: 0.896551724137931 Param: {'clf__C': 1, 'clf__kernel': 'linear'}\n"
     ]
    },
    {
     "name": "stderr",
     "output_type": "stream",
     "text": [
      "C:\\Users\\levrex\\Anaconda3\\lib\\site-packages\\sklearn\\model_selection\\_search.py:813: DeprecationWarning: The default of the `iid` parameter will change from True to False in version 0.22 and will be removed in 0.24. This will change numeric results when test-set sizes are unequal.\n",
      "  DeprecationWarning)\n"
     ]
    }
   ],
   "source": [
    "# large folds -> to ensure enough training & validation data\n",
    "from sklearn.pipeline import make_pipeline\n",
    "from sklearn.metrics import accuracy_score, classification_report\n",
    "from sklearn.metrics import f1_score\n",
    "from yellowbrick.model_selection import RFECV\n",
    "import pickle\n",
    "from sklearn.metrics import make_scorer\n",
    "from sklearn import preprocessing\n",
    "from sklearn.model_selection import train_test_split\n",
    "from sklearn.linear_model import LassoCV\n",
    "from sklearn.ensemble import VotingClassifier\n",
    "from mlxtend.classifier import EnsembleVoteClassifier\n",
    "\n",
    "SEED = 26062019\n",
    "\n",
    "X = df_bitm[df_bitm.columns[2:]]\n",
    "X = X.replace(2, 3)\n",
    "X = X.replace(1, 2)\n",
    "X = X.replace(0, 1)\n",
    "X = X.replace(-1, 0)\n",
    "\n",
    "y = df_bitm[df_bitm.columns[1]]\n",
    "\n",
    "enc = preprocessing.LabelEncoder()\n",
    "y = enc.fit_transform(y)  #['HER2+', 'HR+', 'Triple Neg']\n",
    "\n",
    "\n",
    "#enc = preprocessing.LabelEncoder()\n",
    "#y = enc.fit_transform(y)\n",
    "\n",
    "#C_range = 10.**np.arange(-5, 1)\n",
    "#penalty_options = ['l1', 'l2']\n",
    "\n",
    "#pipe = make_pipeline(RFECV(estimator=svc, cv=StratifiedKFold(y, 3), scoring='f1'), SVC())\n",
    "X_train, X_test, y_train, y_test = train_test_split(X, y, test_size=0.10, random_state=SEED)\n",
    "\n",
    "sfm = SelectFromModel(LassoCV(cv=10))\n",
    "sfm.fit(X_train,y_train)\n",
    "#X = feat.fit_transform(X, y)\n",
    "print('Before Feature Selection: ', len(X_train.columns))\n",
    "X_train = sfm.transform(X_train) #.shape[1]\n",
    "print('After Feature Selection: ', len(X_train[0]))\n",
    "#print(len(X_train[n_features]))\n",
    "#print(èlgeok)\n",
    "## later omringen met kfold_outer\n",
    "old_f1 = 0\n",
    "param = 0\n",
    "best_model = ''\n",
    "\n",
    "for nr in range(len(models)):\n",
    "    estimator_list = []\n",
    "    estimator = models[nr]\n",
    "    if names[nr] == 'SVM':\n",
    "        param_grid =  {\n",
    "                'clf__kernel': ['linear', 'poly', 'sigmoid'], # 'rbf' -> not rbf as it is prone to overfitting!\n",
    "                'clf__C': [ 0.01, 0.01, 0.1, 1, 10, 100], # 0.01, 0.01, 0.1,\n",
    "            }\n",
    "    elif names[nr] == 'Random Forest':\n",
    "        param_grid =  {\n",
    "            'clf__max_depth': [5, 10, 20, 30],\n",
    "            'clf__n_estimators': [10, 100]\n",
    "            }\n",
    "    elif names[nr] == 'KNN':\n",
    "        param_grid = { \n",
    "            'clf__leaf_size': [5, 10, 20, 30, 40],\n",
    "            'clf__n_neighbors': [3, 5, 7, 9]\n",
    "            }\n",
    "    elif names[nr] == 'Naive Bayes':\n",
    "        param_grid = { \n",
    "            'clf__alpha': [1, 0.1, 0.01, 0.001, 0.0001, 0.00001],\n",
    "            }\n",
    "    kfold_outer = StratifiedKFold(n_splits=3,shuffle=True,random_state=SEED)\n",
    "    for i, (train, valid) in enumerate(kfold_outer.split(X_train, y_train)):\n",
    "        # reset\n",
    "        \n",
    "        #kfold_inner = StratifiedKFold(n_splits=3,shuffle=True,random_state=SEED)\n",
    "        \n",
    "        X_tr, y_tr, X_valid, y_valid = X_train[train], y_train[train], X_train[valid], y_train[valid]\n",
    "        grid = GridSearchCV(estimator, param_grid, cv=3, scoring='f1_micro')\n",
    "\n",
    "        grid.fit(X_tr, y_tr) \n",
    "        y_pred = grid.predict(X_valid)\n",
    "        f1 = f1_score(y_valid, y_pred, average='micro')\n",
    "        print('F1:', str(f1), 'Best params:', str(grid.best_params_))  # print best hyperparam\n",
    "        print(classification_report(y_valid, y_pred, target_names=['1', '2', '3']))\n",
    "        #estimator_list.append(grid)\n",
    "    if f1 > old_f1:\n",
    "        print('New Best')\n",
    "        print('Final F1:', str(f1), 'Best params:', str(grid.best_params_))\n",
    "        #eclf1 = EnsembleVoteClassifier(clfs=estimator_list, voting='hard', refit=False)\n",
    "        pickle.dump(grid, open('models/optimal_model.sav', 'wb'))\n",
    "        old_f1 = f1\n",
    "        param = grid.best_params_\n",
    "        best_model = names[nr]\n",
    "        \n",
    "print('Best model:', best_model, ' F1-final:', old_f1, 'Param:', param)    "
   ]
  },
  {
   "cell_type": "code",
   "execution_count": 207,
   "metadata": {},
   "outputs": [
    {
     "name": "stdout",
     "output_type": "stream",
     "text": [
      "Before Feature Selection:  2834\n",
      "After Feature Selection:  40\n",
      "F1 final: 0.8000000000000002 Best params: {'clf__max_depth': 10, 'clf__n_estimators': 100}\n",
      "              precision    recall  f1-score   support\n",
      "\n",
      "           0       1.00      1.00      1.00         3\n",
      "           1       0.50      1.00      0.67         2\n",
      "           2       1.00      0.60      0.75         5\n",
      "\n",
      "    accuracy                           0.80        10\n",
      "   macro avg       0.83      0.87      0.81        10\n",
      "weighted avg       0.90      0.80      0.81        10\n",
      "\n"
     ]
    }
   ],
   "source": [
    "print('Before Feature Selection: ', len(X_test.columns))\n",
    "X_test_t = sfm.transform(X_test) #.shape[1]\n",
    "print('After Feature Selection: ', len(X_test_t[0]))\n",
    "y_pred =  grid.predict(X_test_t)\n",
    "f1 = f1_score(y_test, y_pred, average='micro')\n",
    "print('F1 final:', str(f1), 'Best params:', str(grid.best_params_))  # print best hyperparam\n",
    "print(classification_report(y_test, y_pred, target_names=['0', '1', '2']))"
   ]
  },
  {
   "cell_type": "code",
   "execution_count": 209,
   "metadata": {},
   "outputs": [
    {
     "name": "stdout",
     "output_type": "stream",
     "text": [
      "Confusion matrix, without normalization\n",
      "[[3 0 0]\n",
      " [0 2 0]\n",
      " [0 2 3]]\n"
     ]
    },
    {
     "data": {
      "image/png": "[encoded data removed]",
      "text/plain": [
       "<Figure size 576x396 with 2 Axes>"
      ]
     },
     "metadata": {},
     "output_type": "display_data"
    }
   ],
   "source": [
    "from sklearn.metrics import confusion_matrix\n",
    "def plot_confusion_matrix(cm, classes,\n",
    "                          normalize=False,\n",
    "                          title='Confusion matrix',\n",
    "                          cmap=plt.cm.Blues):\n",
    "    \"\"\"\n",
    "    This function prints and plots the confusion matrix.\n",
    "    Normalization can be applied by setting `normalize=True`.\n",
    "    \"\"\"\n",
    "    import itertools\n",
    "    if normalize:\n",
    "        cm = cm.astype('float') / cm.sum(axis=1)[:, np.newaxis]\n",
    "        print(\"Normalized confusion matrix\")\n",
    "    else:\n",
    "        print('Confusion matrix, without normalization')\n",
    "\n",
    "    print(cm)\n",
    "\n",
    "    plt.imshow(cm, interpolation='nearest', cmap=cmap)\n",
    "    plt.title(title)\n",
    "    plt.colorbar()\n",
    "    tick_marks = np.arange(len(classes))\n",
    "    plt.xticks(tick_marks, classes, rotation=45)\n",
    "    plt.yticks(tick_marks, classes)\n",
    "\n",
    "    fmt = '.2f' if normalize else 'd'\n",
    "    thresh = cm.max() / 2.\n",
    "    for i, j in itertools.product(range(cm.shape[0]), range(cm.shape[1])):\n",
    "        plt.text(j, i, format(cm[i, j], fmt),\n",
    "                 horizontalalignment=\"center\",\n",
    "                 color=\"white\" if cm[i, j] > thresh else \"black\")\n",
    "\n",
    "    plt.ylabel('True label')\n",
    "    plt.xlabel('Predicted label')\n",
    "    plt.tight_layout()\n",
    "\n",
    "\n",
    "cnf_matrix = confusion_matrix(y_test, y_pred,labels=[0,1,2])\n",
    "np.set_printoptions(precision=2)\n",
    "\n",
    "# Plot non-normalized confusion matrix\n",
    "plt.figure()\n",
    "ax = plt.gca()\n",
    "ax.grid(False)\n",
    "plot_confusion_matrix(cnf_matrix, classes=['HER2+', 'HR+', 'Triple Neg'],\n",
    "                      title='Confusion matrix, without normalization')"
   ]
  },
  {
   "cell_type": "code",
   "execution_count": null,
   "metadata": {},
   "outputs": [],
   "source": []
  }
 ],
 "metadata": {
  "kernelspec": {
   "display_name": "Python 3",
   "language": "python",
   "name": "python3"
  },
  "language_info": {
   "codemirror_mode": {
    "name": "ipython",
    "version": 3
   },
   "file_extension": ".py",
   "mimetype": "text/x-python",
   "name": "python",
   "nbconvert_exporter": "python",
   "pygments_lexer": "ipython3",
   "version": "3.7.3"
  }
 },
 "nbformat": 4,
 "nbformat_minor": 2
}
