{
 "cells": [
  {
   "cell_type": "markdown",
   "metadata": {},
   "source": [
    "# Datamining"
   ]
  },
  {
   "cell_type": "code",
   "execution_count": 1,
   "metadata": {},
   "outputs": [
    {
     "name": "stdout",
     "output_type": "stream",
     "text": [
      "Current versions Modules:\n",
      "\n",
      "Pandas version:\t\t0.24.2\n",
      "Matplotlib version:\t3.1.0\n",
      "numpy version:\t\t1.16.4\n",
      "sklearn version:\t0.21.2\n"
     ]
    }
   ],
   "source": [
    "SEED = 26062019\n",
    "\n",
    "test_size = 0.5 \n",
    "\n",
    "import sys\n",
    "import numpy as np\n",
    "import pandas as pd\n",
    "from sklearn import __version__ as sk_vers\n",
    "import matplotlib.pyplot as plt\n",
    "from matplotlib import __version__ as m_vers\n",
    "#import pickle\n",
    "#from yellowbrick import __version__ as yb_vers\n",
    "#import random\n",
    "#from sklearn import datasets, svm, model_selection, tree, preprocessing, metrics\n",
    "#import sklearn.ensemble as ske\n",
    "#import re\n",
    "#import xgboost as xgb\n",
    "#import seaborn as sns\n",
    "\n",
    "\n",
    "print('Current versions Modules:\\n')\n",
    "print('Pandas version:\\t\\t' + pd.__version__)\n",
    "print('Matplotlib version:\\t' + m_vers)\n",
    "print('numpy version:\\t\\t' + np.__version__)\n",
    "print('sklearn version:\\t' + sk_vers)"
   ]
  },
  {
   "cell_type": "markdown",
   "metadata": {},
   "source": [
    "## Load data"
   ]
  },
  {
   "cell_type": "code",
   "execution_count": 2,
   "metadata": {},
   "outputs": [
    {
     "name": "stdout",
     "output_type": "stream",
     "text": [
      "nr of entries:  100\n"
     ]
    },
    {
     "data": {
      "text/html": [
       "<div>\n",
       "<style scoped>\n",
       "    .dataframe tbody tr th:only-of-type {\n",
       "        vertical-align: middle;\n",
       "    }\n",
       "\n",
       "    .dataframe tbody tr th {\n",
       "        vertical-align: top;\n",
       "    }\n",
       "\n",
       "    .dataframe thead th {\n",
       "        text-align: right;\n",
       "    }\n",
       "</style>\n",
       "<table border=\"1\" class=\"dataframe\">\n",
       "  <thead>\n",
       "    <tr style=\"text-align: right;\">\n",
       "      <th></th>\n",
       "      <th>0</th>\n",
       "      <th>1</th>\n",
       "      <th>2</th>\n",
       "      <th>3</th>\n",
       "      <th>4</th>\n",
       "      <th>5</th>\n",
       "      <th>6</th>\n",
       "      <th>7</th>\n",
       "      <th>8</th>\n",
       "      <th>9</th>\n",
       "      <th>...</th>\n",
       "      <th>2826</th>\n",
       "      <th>2827</th>\n",
       "      <th>2828</th>\n",
       "      <th>2829</th>\n",
       "      <th>2830</th>\n",
       "      <th>2831</th>\n",
       "      <th>2832</th>\n",
       "      <th>2833</th>\n",
       "      <th>2834</th>\n",
       "      <th>2835</th>\n",
       "    </tr>\n",
       "  </thead>\n",
       "  <tbody>\n",
       "    <tr>\n",
       "      <th>0</th>\n",
       "      <td>Array.129</td>\n",
       "      <td>HER2+</td>\n",
       "      <td>0</td>\n",
       "      <td>0</td>\n",
       "      <td>0</td>\n",
       "      <td>0</td>\n",
       "      <td>0</td>\n",
       "      <td>0</td>\n",
       "      <td>0</td>\n",
       "      <td>0</td>\n",
       "      <td>...</td>\n",
       "      <td>2</td>\n",
       "      <td>2</td>\n",
       "      <td>2</td>\n",
       "      <td>2</td>\n",
       "      <td>0</td>\n",
       "      <td>1</td>\n",
       "      <td>1</td>\n",
       "      <td>1</td>\n",
       "      <td>1</td>\n",
       "      <td>1</td>\n",
       "    </tr>\n",
       "    <tr>\n",
       "      <th>1</th>\n",
       "      <td>Array.34</td>\n",
       "      <td>HR+</td>\n",
       "      <td>0</td>\n",
       "      <td>0</td>\n",
       "      <td>0</td>\n",
       "      <td>0</td>\n",
       "      <td>0</td>\n",
       "      <td>0</td>\n",
       "      <td>0</td>\n",
       "      <td>0</td>\n",
       "      <td>...</td>\n",
       "      <td>1</td>\n",
       "      <td>1</td>\n",
       "      <td>1</td>\n",
       "      <td>1</td>\n",
       "      <td>1</td>\n",
       "      <td>1</td>\n",
       "      <td>1</td>\n",
       "      <td>1</td>\n",
       "      <td>1</td>\n",
       "      <td>1</td>\n",
       "    </tr>\n",
       "    <tr>\n",
       "      <th>2</th>\n",
       "      <td>Array.67</td>\n",
       "      <td>HR+</td>\n",
       "      <td>0</td>\n",
       "      <td>0</td>\n",
       "      <td>0</td>\n",
       "      <td>0</td>\n",
       "      <td>0</td>\n",
       "      <td>0</td>\n",
       "      <td>0</td>\n",
       "      <td>0</td>\n",
       "      <td>...</td>\n",
       "      <td>1</td>\n",
       "      <td>1</td>\n",
       "      <td>1</td>\n",
       "      <td>1</td>\n",
       "      <td>1</td>\n",
       "      <td>1</td>\n",
       "      <td>1</td>\n",
       "      <td>1</td>\n",
       "      <td>1</td>\n",
       "      <td>1</td>\n",
       "    </tr>\n",
       "    <tr>\n",
       "      <th>3</th>\n",
       "      <td>Array.24</td>\n",
       "      <td>Triple Neg</td>\n",
       "      <td>0</td>\n",
       "      <td>0</td>\n",
       "      <td>0</td>\n",
       "      <td>0</td>\n",
       "      <td>0</td>\n",
       "      <td>0</td>\n",
       "      <td>0</td>\n",
       "      <td>-1</td>\n",
       "      <td>...</td>\n",
       "      <td>0</td>\n",
       "      <td>0</td>\n",
       "      <td>0</td>\n",
       "      <td>0</td>\n",
       "      <td>0</td>\n",
       "      <td>0</td>\n",
       "      <td>0</td>\n",
       "      <td>0</td>\n",
       "      <td>0</td>\n",
       "      <td>0</td>\n",
       "    </tr>\n",
       "    <tr>\n",
       "      <th>4</th>\n",
       "      <td>Array.22</td>\n",
       "      <td>Triple Neg</td>\n",
       "      <td>0</td>\n",
       "      <td>0</td>\n",
       "      <td>0</td>\n",
       "      <td>0</td>\n",
       "      <td>0</td>\n",
       "      <td>0</td>\n",
       "      <td>0</td>\n",
       "      <td>0</td>\n",
       "      <td>...</td>\n",
       "      <td>1</td>\n",
       "      <td>1</td>\n",
       "      <td>1</td>\n",
       "      <td>1</td>\n",
       "      <td>1</td>\n",
       "      <td>1</td>\n",
       "      <td>1</td>\n",
       "      <td>1</td>\n",
       "      <td>1</td>\n",
       "      <td>1</td>\n",
       "    </tr>\n",
       "  </tbody>\n",
       "</table>\n",
       "<p>5 rows × 2836 columns</p>\n",
       "</div>"
      ],
      "text/plain": [
       "        0           1     2     3     4     5     6     7     8     9     ...  \\\n",
       "0  Array.129       HER2+     0     0     0     0     0     0     0     0  ...   \n",
       "1   Array.34         HR+     0     0     0     0     0     0     0     0  ...   \n",
       "2   Array.67         HR+     0     0     0     0     0     0     0     0  ...   \n",
       "3   Array.24  Triple Neg     0     0     0     0     0     0     0    -1  ...   \n",
       "4   Array.22  Triple Neg     0     0     0     0     0     0     0     0  ...   \n",
       "\n",
       "   2826  2827  2828  2829  2830  2831  2832  2833  2834  2835  \n",
       "0     2     2     2     2     0     1     1     1     1     1  \n",
       "1     1     1     1     1     1     1     1     1     1     1  \n",
       "2     1     1     1     1     1     1     1     1     1     1  \n",
       "3     0     0     0     0     0     0     0     0     0     0  \n",
       "4     1     1     1     1     1     1     1     1     1     1  \n",
       "\n",
       "[5 rows x 2836 columns]"
      ]
     },
     "execution_count": 2,
     "metadata": {},
     "output_type": "execute_result"
    }
   ],
   "source": [
    "df_bitm = pd.read_csv(r'data/BITM_Cancer_dataset.csv', sep='\\t', header=None)\n",
    "print('nr of entries: ', len(df_bitm))\n",
    "\n",
    "df_bitm.head()"
   ]
  },
  {
   "cell_type": "code",
   "execution_count": 10,
   "metadata": {},
   "outputs": [
    {
     "name": "stdout",
     "output_type": "stream",
     "text": [
      "(32, 36, 32)\n"
     ]
    },
    {
     "data": {
      "image/png": "[encoded data removed]",
      "text/plain": [
       "<Figure size 360x360 with 1 Axes>"
      ]
     },
     "metadata": {
      "needs_background": "light"
     },
     "output_type": "display_data"
    }
   ],
   "source": [
    "from collections import Counter\n",
    "\n",
    "labels, values = zip(*Counter(df_bitm[1]).items())\n",
    "print(values)\n",
    "df = pd.DataFrame({'section':labels, 'frequency':values})\n",
    "ax = df.plot(kind='bar',  title =\"Categories Variable\", figsize=(5, 5), x='section', legend=True, fontsize=12, rot=90)"
   ]
  },
  {
   "cell_type": "markdown",
   "metadata": {},
   "source": [
    "### Import important modules"
   ]
  },
  {
   "cell_type": "code",
   "execution_count": 20,
   "metadata": {},
   "outputs": [],
   "source": [
    "from sklearn.datasets import load_iris\n",
    "from matplotlib import pyplot as plt\n",
    "from sklearn.svm import SVC\n",
    "from sklearn.model_selection import GridSearchCV, cross_val_score, KFold, StratifiedKFold\n",
    "import numpy as np"
   ]
  },
  {
   "cell_type": "markdown",
   "metadata": {},
   "source": [
    "## Feature Reduction"
   ]
  },
  {
   "cell_type": "code",
   "execution_count": 17,
   "metadata": {},
   "outputs": [],
   "source": [
    "X = df_bitm[df_bitm.columns[2:]]\n",
    "y = df_bitm[df_bitm.columns[1]]\n"
   ]
  },
  {
   "cell_type": "markdown",
   "metadata": {},
   "source": [
    "## Double Cross Validation"
   ]
  },
  {
   "cell_type": "code",
   "execution_count": 35,
   "metadata": {},
   "outputs": [
    {
     "name": "stderr",
     "output_type": "stream",
     "text": [
      "C:\\Users\\levrex\\Anaconda3\\lib\\site-packages\\sklearn\\svm\\base.py:193: FutureWarning: The default value of gamma will change from 'auto' to 'scale' in version 0.22 to account better for unscaled features. Set gamma explicitly to 'auto' or 'scale' to avoid this warning.\n",
      "  \"avoid this warning.\", FutureWarning)\n",
      "C:\\Users\\levrex\\Anaconda3\\lib\\site-packages\\sklearn\\metrics\\classification.py:1437: UndefinedMetricWarning: F-score is ill-defined and being set to 0.0 in labels with no predicted samples.\n",
      "  'precision', 'predicted', average, warn_for)\n",
      "C:\\Users\\levrex\\Anaconda3\\lib\\site-packages\\sklearn\\svm\\base.py:193: FutureWarning: The default value of gamma will change from 'auto' to 'scale' in version 0.22 to account better for unscaled features. Set gamma explicitly to 'auto' or 'scale' to avoid this warning.\n",
      "  \"avoid this warning.\", FutureWarning)\n",
      "C:\\Users\\levrex\\Anaconda3\\lib\\site-packages\\sklearn\\svm\\base.py:193: FutureWarning: The default value of gamma will change from 'auto' to 'scale' in version 0.22 to account better for unscaled features. Set gamma explicitly to 'auto' or 'scale' to avoid this warning.\n",
      "  \"avoid this warning.\", FutureWarning)\n",
      "C:\\Users\\levrex\\Anaconda3\\lib\\site-packages\\sklearn\\svm\\base.py:193: FutureWarning: The default value of gamma will change from 'auto' to 'scale' in version 0.22 to account better for unscaled features. Set gamma explicitly to 'auto' or 'scale' to avoid this warning.\n",
      "  \"avoid this warning.\", FutureWarning)\n",
      "C:\\Users\\levrex\\Anaconda3\\lib\\site-packages\\sklearn\\metrics\\classification.py:1437: UndefinedMetricWarning: F-score is ill-defined and being set to 0.0 in labels with no predicted samples.\n",
      "  'precision', 'predicted', average, warn_for)\n",
      "C:\\Users\\levrex\\Anaconda3\\lib\\site-packages\\sklearn\\svm\\base.py:193: FutureWarning: The default value of gamma will change from 'auto' to 'scale' in version 0.22 to account better for unscaled features. Set gamma explicitly to 'auto' or 'scale' to avoid this warning.\n",
      "  \"avoid this warning.\", FutureWarning)\n",
      "C:\\Users\\levrex\\Anaconda3\\lib\\site-packages\\sklearn\\metrics\\classification.py:1437: UndefinedMetricWarning: F-score is ill-defined and being set to 0.0 in labels with no predicted samples.\n",
      "  'precision', 'predicted', average, warn_for)\n",
      "C:\\Users\\levrex\\Anaconda3\\lib\\site-packages\\sklearn\\svm\\base.py:193: FutureWarning: The default value of gamma will change from 'auto' to 'scale' in version 0.22 to account better for unscaled features. Set gamma explicitly to 'auto' or 'scale' to avoid this warning.\n",
      "  \"avoid this warning.\", FutureWarning)\n"
     ]
    },
    {
     "name": "stdout",
     "output_type": "stream",
     "text": [
      "Iteration: 0 F1: 0.17777777777777778 C:  0.1\n",
      "Iteration: 1 F1: 0.30501089324618735 C:  1\n",
      "Iteration: 2 F1: 0.6174089068825911 C:  10\n",
      "F1-Inner: 0.6174089068825911 C:  10\n",
      "F1-final: 0.6874762808349146\n",
      "Iteration: 0 F1: 0.17777777777777778 C:  0.1\n",
      "Iteration: 1 F1: 0.30069930069930073 C:  1\n",
      "Iteration: 2 F1: 0.8167832167832167 C:  10\n",
      "F1-Inner: 0.8167832167832167 C:  10\n",
      "F1-final: 0.6851851851851852\n",
      "Iteration: 0 F1: 0.16666666666666666 C:  0.1\n",
      "Iteration: 1 F1: 0.43469785575048725 C:  1\n",
      "Iteration: 2 F1: 0.5423280423280423 C:  10\n",
      "F1-Inner: 0.5423280423280423 C:  10\n",
      "F1-final: 0.65\n"
     ]
    },
    {
     "name": "stderr",
     "output_type": "stream",
     "text": [
      "C:\\Users\\levrex\\Anaconda3\\lib\\site-packages\\sklearn\\svm\\base.py:193: FutureWarning: The default value of gamma will change from 'auto' to 'scale' in version 0.22 to account better for unscaled features. Set gamma explicitly to 'auto' or 'scale' to avoid this warning.\n",
      "  \"avoid this warning.\", FutureWarning)\n",
      "C:\\Users\\levrex\\Anaconda3\\lib\\site-packages\\sklearn\\metrics\\classification.py:1437: UndefinedMetricWarning: F-score is ill-defined and being set to 0.0 in labels with no predicted samples.\n",
      "  'precision', 'predicted', average, warn_for)\n",
      "C:\\Users\\levrex\\Anaconda3\\lib\\site-packages\\sklearn\\svm\\base.py:193: FutureWarning: The default value of gamma will change from 'auto' to 'scale' in version 0.22 to account better for unscaled features. Set gamma explicitly to 'auto' or 'scale' to avoid this warning.\n",
      "  \"avoid this warning.\", FutureWarning)\n",
      "C:\\Users\\levrex\\Anaconda3\\lib\\site-packages\\sklearn\\metrics\\classification.py:1437: UndefinedMetricWarning: F-score is ill-defined and being set to 0.0 in labels with no predicted samples.\n",
      "  'precision', 'predicted', average, warn_for)\n",
      "C:\\Users\\levrex\\Anaconda3\\lib\\site-packages\\sklearn\\svm\\base.py:193: FutureWarning: The default value of gamma will change from 'auto' to 'scale' in version 0.22 to account better for unscaled features. Set gamma explicitly to 'auto' or 'scale' to avoid this warning.\n",
      "  \"avoid this warning.\", FutureWarning)\n"
     ]
    }
   ],
   "source": [
    "# large folds -> to ensure enough training & validation data\n",
    "from sklearn.metrics import accuracy_score\n",
    "from sklearn.metrics import f1_score\n",
    "import pickle\n",
    "\n",
    "SEED = 26062019\n",
    "\n",
    "X = df_bitm[df_bitm.columns[2:]]\n",
    "y = df_bitm[df_bitm.columns[1]]\n",
    "\n",
    "hyperparam = [0.1, 1, 10, 100]\n",
    "kfold_outer = StratifiedKFold(n_splits=3,shuffle=True,random_state=SEED)\n",
    "\n",
    "## later omringen met kfold_outer\n",
    "for i, (train, valid) in enumerate(kfold_outer.split(X, y)):\n",
    "    # reset\n",
    "    old_f1 = 0\n",
    "    param = 0\n",
    "    kfold_inner = StratifiedKFold(n_splits=3,shuffle=True,random_state=SEED)\n",
    "    best_model = ''\n",
    "    X_train, y_train, X_valid, y_valid = X.iloc[train], y.iloc[train], X.iloc[valid], y.iloc[valid]\n",
    "    for i, (in_train, in_test) in enumerate(kfold_inner.split(X_train, y_train)):\n",
    "        clf = SVC(C=hyperparam[i])\n",
    "        clf.fit(X_train.iloc[in_train], y_train.iloc[in_train])\n",
    "        y_pred = clf.predict(X_train.iloc[in_test])\n",
    "        #print(clf.coef_[:10])\n",
    "        f1 = f1_score(y_train.iloc[in_test], y_pred, average='macro')\n",
    "        print('Iteration:', str(i), 'F1:', str(f1), 'C: ', str(hyperparam[i]))\n",
    "        if f1 > old_f1:\n",
    "            pickle.dump(clf, open('models/optimal_model.sav', 'wb'))\n",
    "            old_f1 = f1\n",
    "            param = hyperparam[i]\n",
    "        # if performance > old_performance # macro F1\n",
    "        # return model\n",
    "    # Load best model\n",
    "    print('F1-Inner:', old_f1, 'C: ', param)\n",
    "    optimal_model = pickle.load(open('models/optimal_model.sav', 'rb'))\n",
    "    final_y_pred = optimal_model.predict(X_valid)\n",
    "    final_f1 = f1_score(y_valid, final_y_pred, average='macro')\n",
    "    print('F1-final:', final_f1)\n",
    "    "
   ]
  },
  {
   "cell_type": "code",
   "execution_count": null,
   "metadata": {},
   "outputs": [],
   "source": [
    "# Hyperparameter tuning\n",
    "\n",
    "p_grid = {\"C\": [1, 10, 100],\n",
    "          \"gamma\": [.01, .1]}"
   ]
  },
  {
   "cell_type": "code",
   "execution_count": null,
   "metadata": {},
   "outputs": [],
   "source": []
  }
 ],
 "metadata": {
  "kernelspec": {
   "display_name": "Python 3",
   "language": "python",
   "name": "python3"
  },
  "language_info": {
   "codemirror_mode": {
    "name": "ipython",
    "version": 3
   },
   "file_extension": ".py",
   "mimetype": "text/x-python",
   "name": "python",
   "nbconvert_exporter": "python",
   "pygments_lexer": "ipython3",
   "version": "3.7.3"
  }
 },
 "nbformat": 4,
 "nbformat_minor": 2
}
